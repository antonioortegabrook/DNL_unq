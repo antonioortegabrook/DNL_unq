{
 "cells": [
  {
   "cell_type": "code",
   "execution_count": 2,
   "id": "2254df9f",
   "metadata": {
    "ExecuteTime": {
     "end_time": "2021-04-25T13:44:24.002182Z",
     "start_time": "2021-04-25T13:44:23.084702Z"
    }
   },
   "outputs": [],
   "source": [
    "import matplotlib.pyplot as plt\n",
    "import numpy as np\n",
    "from ipywidgets import interactive, interact_manual\n",
    "from putils import *"
   ]
  },
  {
   "cell_type": "code",
   "execution_count": 3,
   "id": "ac8817ea",
   "metadata": {
    "ExecuteTime": {
     "end_time": "2021-04-25T13:44:24.562535Z",
     "start_time": "2021-04-25T13:44:24.547405Z"
    }
   },
   "outputs": [],
   "source": [
    "# Oscilador simple\n",
    "def osc_harm(t, x, W):\n",
    "    return [\n",
    "        x[1],\n",
    "        -W*x[0],\n",
    "    ]"
   ]
  },
  {
   "cell_type": "code",
   "execution_count": 4,
   "id": "d1284122",
   "metadata": {
    "ExecuteTime": {
     "end_time": "2021-04-25T13:44:25.654234Z",
     "start_time": "2021-04-25T13:44:25.635020Z"
    }
   },
   "outputs": [],
   "source": [
    "# armamos trayectoria de entrenamiento partiendo de (0.1, 0)\n",
    "def solve_osc_harm(W,x0,x1,Tmax):\n",
    "    dt = 0.005\n",
    "    t = np.arange(0, Tmax, dt)\n",
    "    xini = [x0, x1]\n",
    "    x = solve(osc_harm, t, xini, args=(W,), method='RK45')\n",
    "    plot2D_labels(t,x,'W = ' + str(W))"
   ]
  },
  {
   "cell_type": "code",
   "execution_count": 5,
   "id": "545271fd",
   "metadata": {
    "ExecuteTime": {
     "end_time": "2021-04-25T13:44:27.033606Z",
     "start_time": "2021-04-25T13:44:26.995692Z"
    }
   },
   "outputs": [],
   "source": [
    "iplot0 = interactive(solve_osc_harm,\n",
    "                    W=(0,2.0,0.01),\n",
    "                    x0=(-1,1,0.01),\n",
    "                    x1=(-1,1,0.01),\n",
    "                    Tmax=(1,30,1))"
   ]
  },
  {
   "cell_type": "code",
   "execution_count": 6,
   "id": "7d62bd9f",
   "metadata": {
    "ExecuteTime": {
     "end_time": "2021-04-25T13:44:28.609032Z",
     "start_time": "2021-04-25T13:44:28.148131Z"
    }
   },
   "outputs": [
    {
     "data": {
      "application/vnd.jupyter.widget-view+json": {
       "model_id": "5738a80cecb34cc6985891c660c62e67",
       "version_major": 2,
       "version_minor": 0
      },
      "text/plain": [
       "interactive(children=(FloatSlider(value=1.0, description='W', max=2.0, step=0.01), FloatSlider(value=0.0, desc…"
      ]
     },
     "metadata": {},
     "output_type": "display_data"
    }
   ],
   "source": [
    "iplot0"
   ]
  },
  {
   "cell_type": "code",
   "execution_count": 6,
   "id": "4fbcf138",
   "metadata": {
    "ExecuteTime": {
     "end_time": "2021-04-24T21:17:47.684948Z",
     "start_time": "2021-04-24T21:17:47.671955Z"
    }
   },
   "outputs": [],
   "source": [
    "def osc_bounce(t, x, W,G):\n",
    "    if (x[0]>0):\n",
    "        return [\n",
    "            x[1],\n",
    "            -G,\n",
    "        ]\n",
    "    else:\n",
    "        return [\n",
    "            x[1],\n",
    "            -G-W*x[0],\n",
    "        ]"
   ]
  },
  {
   "cell_type": "code",
   "execution_count": 7,
   "id": "e4f1960c",
   "metadata": {
    "ExecuteTime": {
     "end_time": "2021-04-24T21:17:48.505898Z",
     "start_time": "2021-04-24T21:17:48.495785Z"
    }
   },
   "outputs": [],
   "source": [
    "def solve_osc_bounce(W,G,x0,x1,Tmax):\n",
    "    dt = 0.001\n",
    "    t = np.arange(0, Tmax, dt)\n",
    "    xini = [x0, x1]\n",
    "    x = solve(osc_bounce, t, xini, args=(W,G), method='RK45')\n",
    "    plot2D_labels(t,x,'W = ' + str(W) + ' G = ' + str(G))"
   ]
  },
  {
   "cell_type": "code",
   "execution_count": 8,
   "id": "70a031f9",
   "metadata": {
    "ExecuteTime": {
     "end_time": "2021-04-24T21:17:49.082523Z",
     "start_time": "2021-04-24T21:17:49.041632Z"
    }
   },
   "outputs": [],
   "source": [
    "iplot1 = interactive(solve_osc_bounce,\n",
    "                    W=(0,300.0,0.01),\n",
    "                    G=(0,1,0.01), \n",
    "                    x0=(-1,1,0.01),\n",
    "                    x1=(-1,1,0.01),\n",
    "                    Tmax=(1,10,1))"
   ]
  },
  {
   "cell_type": "code",
   "execution_count": 9,
   "id": "51c2f162",
   "metadata": {
    "ExecuteTime": {
     "end_time": "2021-04-24T21:17:50.961603Z",
     "start_time": "2021-04-24T21:17:50.735252Z"
    }
   },
   "outputs": [
    {
     "data": {
      "application/vnd.jupyter.widget-view+json": {
       "model_id": "b668849edfd6418a914d90b9a394a636",
       "version_major": 2,
       "version_minor": 0
      },
      "text/plain": [
       "interactive(children=(FloatSlider(value=150.0, description='W', max=300.0, step=0.01), FloatSlider(value=0.0, …"
      ]
     },
     "metadata": {},
     "output_type": "display_data"
    }
   ],
   "source": [
    "iplot1"
   ]
  },
  {
   "cell_type": "code",
   "execution_count": 7,
   "id": "51a1bc33",
   "metadata": {
    "ExecuteTime": {
     "end_time": "2021-04-25T13:46:52.588546Z",
     "start_time": "2021-04-25T13:46:52.580568Z"
    }
   },
   "outputs": [
    {
     "data": {
      "text/plain": [
       "18"
      ]
     },
     "execution_count": 7,
     "metadata": {},
     "output_type": "execute_result"
    }
   ],
   "source": [
    "56-38"
   ]
  },
  {
   "cell_type": "code",
   "execution_count": null,
   "id": "bad81519",
   "metadata": {},
   "outputs": [],
   "source": []
  }
 ],
 "metadata": {
  "kernelspec": {
   "display_name": "Python 3",
   "language": "python",
   "name": "python3"
  },
  "language_info": {
   "codemirror_mode": {
    "name": "ipython",
    "version": 3
   },
   "file_extension": ".py",
   "mimetype": "text/x-python",
   "name": "python",
   "nbconvert_exporter": "python",
   "pygments_lexer": "ipython3",
   "version": "3.7.8"
  },
  "toc": {
   "base_numbering": 1,
   "nav_menu": {},
   "number_sections": true,
   "sideBar": true,
   "skip_h1_title": false,
   "title_cell": "Table of Contents",
   "title_sidebar": "Contents",
   "toc_cell": false,
   "toc_position": {},
   "toc_section_display": true,
   "toc_window_display": false
  },
  "varInspector": {
   "cols": {
    "lenName": 16,
    "lenType": 16,
    "lenVar": 40
   },
   "kernels_config": {
    "python": {
     "delete_cmd_postfix": "",
     "delete_cmd_prefix": "del ",
     "library": "var_list.py",
     "varRefreshCmd": "print(var_dic_list())"
    },
    "r": {
     "delete_cmd_postfix": ") ",
     "delete_cmd_prefix": "rm(",
     "library": "var_list.r",
     "varRefreshCmd": "cat(var_dic_list()) "
    }
   },
   "types_to_exclude": [
    "module",
    "function",
    "builtin_function_or_method",
    "instance",
    "_Feature"
   ],
   "window_display": false
  }
 },
 "nbformat": 4,
 "nbformat_minor": 5
}
