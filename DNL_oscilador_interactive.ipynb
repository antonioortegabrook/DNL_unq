{
 "cells": [
  {
   "cell_type": "code",
   "execution_count": null,
   "id": "2254df9f",
   "metadata": {
    "ExecuteTime": {
     "end_time": "2021-04-28T19:37:13.802174Z",
     "start_time": "2021-04-28T19:37:13.252501Z"
    }
   },
   "outputs": [],
   "source": [
    "import matplotlib.pyplot as plt\n",
    "import numpy as np\n",
    "from ipywidgets import interactive, interact_manual\n",
    "from putils import *"
   ]
  },
  {
   "cell_type": "markdown",
   "id": "26ea65d2",
   "metadata": {},
   "source": [
    "# Oscilador armonico\n",
    "Sistema lineal que depende se un solo parametro K"
   ]
  },
  {
   "cell_type": "markdown",
   "id": "1638759a",
   "metadata": {},
   "source": [
    "Ecuaciones diferenciales de primer orden lineales correspondientes al oscilador armonico.\n",
    "$x$ corresponde a la posicion del oscilador e $y$ a su velocidad.\n",
    "\n",
    "$ \\dot{x} = y $ \n",
    "\n",
    "$\\dot{y} = -Kx$\n",
    "\n",
    "La primera ecuacion solo especifica que la variacion temporal de la posicion corresponde a la velocidad. \n",
    "\n",
    "La segunda ecuacion, que proviene de la segunda Ley de Newton combinada con la Ley de Hooke especifica que la variacion de la velocidad (aceleracion) es propocional a la posicion con una constante $K$ y signo negativo"
   ]
  },
  {
   "cell_type": "code",
   "execution_count": null,
   "id": "ac8817ea",
   "metadata": {
    "ExecuteTime": {
     "end_time": "2021-04-28T19:37:15.128471Z",
     "start_time": "2021-04-28T19:37:15.124482Z"
    }
   },
   "outputs": [],
   "source": [
    "# Oscilador simple\n",
    "def osc_harm(t, x, K):\n",
    "    return [\n",
    "        x[1],\n",
    "        -K*x[0],\n",
    "    ]"
   ]
  },
  {
   "cell_type": "markdown",
   "id": "7c713ab4",
   "metadata": {},
   "source": [
    "## Calculo de las trayectorias\n",
    "Para resolver (integrar) usamos la funcion **solve_plot** de putils\n",
    "\n",
    "**solve_plot** necesita como argumentos:\n",
    "1. la funcion que define el sistema dinamico (en este caso osc_harm)\n",
    "2. los parametros del sistema como un diccionario 'nombre':valor\n",
    "3. la condicion inicial como un array [x0,x1] en nuestro caso\n",
    "4. el tiempo maximo\n",
    "5. (opcional) el paso de integracion\n",
    "\n",
    "Para facilitar esto definimos una funcion ad-hoc que despues vamos a poder hacer interactiva"
   ]
  },
  {
   "cell_type": "code",
   "execution_count": null,
   "id": "d1284122",
   "metadata": {
    "ExecuteTime": {
     "end_time": "2021-04-28T19:37:16.557148Z",
     "start_time": "2021-04-28T19:37:16.540165Z"
    }
   },
   "outputs": [],
   "source": [
    "# armamos trayectoria de entrenamiento partiendo de (0.1, 0)\n",
    "def solve_osc_harm(K,x0,x1,tmax):\n",
    "    dt = 0.001\n",
    "    par={'K':K}\n",
    "    return solve_plot(osc_harm,par,[x0,x1],tmax,dt)"
   ]
  },
  {
   "cell_type": "markdown",
   "id": "9bedae1f",
   "metadata": {},
   "source": [
    "## Evolucion temporal y Retrato de fases\n",
    "Podemos graficar la solucion del sistema y el retrato de fases para un valor particular del parametro y de la condicion inicial"
   ]
  },
  {
   "cell_type": "code",
   "execution_count": null,
   "id": "c926c0f5",
   "metadata": {
    "ExecuteTime": {
     "end_time": "2021-04-28T19:37:18.556968Z",
     "start_time": "2021-04-28T19:37:18.115791Z"
    }
   },
   "outputs": [],
   "source": [
    "solve_osc_harm(1.0,1.0,0,10)"
   ]
  },
  {
   "cell_type": "markdown",
   "id": "53a6d95d",
   "metadata": {},
   "source": [
    "## Interaccion\n",
    "usando el ipywidget interactive podemos darle un rango al parametro, la condicion incial y el tiempo maximo de integracion y jugar con eso de forma interactiva "
   ]
  },
  {
   "cell_type": "code",
   "execution_count": null,
   "id": "545271fd",
   "metadata": {
    "ExecuteTime": {
     "end_time": "2021-04-28T19:37:36.236852Z",
     "start_time": "2021-04-28T19:37:35.948622Z"
    }
   },
   "outputs": [],
   "source": [
    "iplot0 = interactive(solve_osc_harm,\n",
    "                    K=(0,2.0,0.01),\n",
    "                    x0=(-1,1,0.01),\n",
    "                    x1=(-1,1,0.01),\n",
    "                    tmax=(1,30,1))\n",
    "\n",
    "iplot0"
   ]
  },
  {
   "cell_type": "markdown",
   "id": "5089581b",
   "metadata": {
    "ExecuteTime": {
     "end_time": "2021-04-28T14:45:27.502106Z",
     "start_time": "2021-04-28T14:45:27.494031Z"
    }
   },
   "source": [
    " # Bouncing Ball\n",
    "    \n",
    "Una bola bajo la accion de la gravedad **G** para x>0 y que rebota con un resorte que ejerce fuerza de parametro **K** para x<0"
   ]
  },
  {
   "cell_type": "markdown",
   "id": "ec1e09b3",
   "metadata": {},
   "source": [
    "Las ecuaciones tienen una discontinuidad en $x=0$ ya que para $x>0$ solo actua la gravedad y para $x<0$ actua ademas la fuerza elastica del rebote. \n",
    "\n",
    "Necesitamos separar entonces la segunda ecuacion en dos partes con un condicional:\n",
    "\\begin{aligned}\n",
    "\\dot{x} & = y \\\\\n",
    "\\dot{y} & =  -G  \\quad \\quad \\quad \\quad (x>0) \\\\\n",
    "        & =  -G-Kx \\quad \\quad  (x\\leq 0 )\n",
    "\\end{aligned}"
   ]
  },
  {
   "cell_type": "code",
   "execution_count": null,
   "id": "4fbcf138",
   "metadata": {
    "ExecuteTime": {
     "end_time": "2021-04-28T19:37:41.394658Z",
     "start_time": "2021-04-28T19:37:41.388675Z"
    }
   },
   "outputs": [],
   "source": [
    "def osc_bounce(t, x, K,G):\n",
    "    if (x[0]>0):\n",
    "        return [\n",
    "            x[1],\n",
    "            -G,\n",
    "        ]\n",
    "    else:\n",
    "        return [\n",
    "            x[1],\n",
    "            -G-K*x[0],\n",
    "        ]"
   ]
  },
  {
   "cell_type": "code",
   "execution_count": null,
   "id": "e4f1960c",
   "metadata": {
    "ExecuteTime": {
     "end_time": "2021-04-28T19:37:41.875002Z",
     "start_time": "2021-04-28T19:37:41.860067Z"
    }
   },
   "outputs": [],
   "source": [
    "def solve_osc_bounce(K,G,x0,x1,tmax):\n",
    "    dt = 0.0001\n",
    "    par={'K':K,'G':G}\n",
    "    return solve_plot(osc_bounce,par,[x0,x1],tmax,dt)"
   ]
  },
  {
   "cell_type": "code",
   "execution_count": null,
   "id": "70a031f9",
   "metadata": {
    "ExecuteTime": {
     "end_time": "2021-04-28T19:37:54.295959Z",
     "start_time": "2021-04-28T19:37:53.907996Z"
    }
   },
   "outputs": [],
   "source": [
    "iplot1 = interactive(solve_osc_bounce,\n",
    "                    K=(0,300.0,0.01),\n",
    "                    G=(0,1,0.01), \n",
    "                    x0=(-1,1,0.01),\n",
    "                    x1=(-1,1,0.01),\n",
    "                    tmax=(1,20,1))\n",
    "iplot1"
   ]
  },
  {
   "cell_type": "markdown",
   "id": "2aaa7479",
   "metadata": {},
   "source": [
    "# Bouncing Ball con disipacion\n",
    "Ahora aparece una fuerza de friccion que depende de la velocidad controlada por un parametro C\n",
    "\n",
    "\\begin{aligned}\n",
    "\\dot{x} & = y \\\\\n",
    "\\dot{y} & =  -G-Cy  \\quad \\quad \\quad \\quad (x>0) \\\\\n",
    "        & =  -G-Kx-Cy \\quad \\quad  (x\\leq 0 )\n",
    "\\end{aligned}"
   ]
  },
  {
   "cell_type": "code",
   "execution_count": null,
   "id": "bad81519",
   "metadata": {
    "ExecuteTime": {
     "end_time": "2021-04-28T19:39:57.074857Z",
     "start_time": "2021-04-28T19:39:57.060895Z"
    }
   },
   "outputs": [],
   "source": [
    "def osc_bounce2(t,x,K,G,C):\n",
    "    if (x[0]>0):\n",
    "        return [\n",
    "            x[1],\n",
    "            -G-C*x[1],\n",
    "        ]\n",
    "    else:\n",
    "        return [\n",
    "            x[1],\n",
    "            -G-C*x[1]-K*x[0],\n",
    "        ]"
   ]
  },
  {
   "cell_type": "code",
   "execution_count": null,
   "id": "642792a9",
   "metadata": {
    "ExecuteTime": {
     "end_time": "2021-04-28T19:39:57.990179Z",
     "start_time": "2021-04-28T19:39:57.605069Z"
    }
   },
   "outputs": [],
   "source": [
    "def solve_osc_bounce2(K,G,C,x0,x1,tmax):\n",
    "    dt = 0.0001\n",
    "    par={'K':K,'G':G,'C':C}\n",
    "    return solve_plot(osc_bounce2,par,[x0,x1],tmax,dt)\n",
    "\n",
    "iplot2 = interactive(solve_osc_bounce2,\n",
    "                    K=(0,300.0,0.01),\n",
    "                    G=(0,1,0.01), \n",
    "                    C=(0,0.5,0.01), \n",
    "                    x0=(-1,1,0.01),\n",
    "                    x1=(-1,1,0.01),\n",
    "                    tmax=(1,20,1))\n",
    "\n",
    "iplot2"
   ]
  },
  {
   "cell_type": "markdown",
   "id": "e9c770f2",
   "metadata": {},
   "source": [
    "# Oscilador armonico con disipacion\n",
    "\n",
    "En este caso tambien actua la friccion que depende de la velocidad y depende del parametro C\n",
    "\n",
    "\\begin{aligned}\n",
    "\\dot{x} & = y \\\\\n",
    "\\dot{y} & =  -Kx-Cy  \n",
    "\\end{aligned}"
   ]
  },
  {
   "cell_type": "code",
   "execution_count": null,
   "id": "c9f9a059",
   "metadata": {
    "ExecuteTime": {
     "end_time": "2021-04-28T19:40:06.728070Z",
     "start_time": "2021-04-28T19:40:06.725078Z"
    }
   },
   "outputs": [],
   "source": [
    "def osc_harm2(t, x, K, C):\n",
    "    return [\n",
    "        x[1],\n",
    "        -K*x[0]-C*x[1],\n",
    "    ]"
   ]
  },
  {
   "cell_type": "code",
   "execution_count": null,
   "id": "443b882c",
   "metadata": {
    "ExecuteTime": {
     "end_time": "2021-04-28T22:45:33.982417Z",
     "start_time": "2021-04-28T22:45:33.139193Z"
    }
   },
   "outputs": [],
   "source": [
    "def solve_osc_harm2(K,C,x0,x1,tmax):\n",
    "    dt = 0.0001\n",
    "    par={'K':K,'C':C}\n",
    "    return solve_plot(osc_harm2,par,[x0,x1],tmax,dt)\n",
    "\n",
    "iplot3 = interactive(solve_osc_harm2,\n",
    "                    K=(0,1.0,0.01),\n",
    "                    C=(0,2,0.01), \n",
    "                    x0=(-1,1,0.01),\n",
    "                    x1=(-1,1,0.01),\n",
    "                    tmax=(1,100,1))\n",
    "\n",
    "iplot3"
   ]
  },
  {
   "cell_type": "markdown",
   "id": "6153e44a",
   "metadata": {
    "ExecuteTime": {
     "end_time": "2021-04-28T01:28:31.956047Z",
     "start_time": "2021-04-28T01:28:31.720415Z"
    }
   },
   "source": [
    "# Oscilador No Lineal : Van der Pol\n",
    "En este caso el termino de disipacion es no lineal y en lugar de C es igual a $C(x^2-1)$\n",
    "de forma tal que cuando x es menor que 1 la disipacion es **negativa** y actua como una fuente de energia\n",
    "\n",
    "\n",
    "\\begin{aligned}\n",
    "\\dot{x} & = y \\\\\n",
    "\\dot{y} & =  -Kx-Cy(x^2-1)  \n",
    "\\end{aligned}"
   ]
  },
  {
   "cell_type": "code",
   "execution_count": null,
   "id": "e98af477",
   "metadata": {
    "ExecuteTime": {
     "end_time": "2021-04-28T19:40:12.703799Z",
     "start_time": "2021-04-28T19:40:12.692828Z"
    }
   },
   "outputs": [],
   "source": [
    "def van_der_pol(t, x, K, C):\n",
    "    return [\n",
    "        x[1],\n",
    "        -K*x[0]-C*x[1]*(x[0]*x[0]-1),\n",
    "    ]\n",
    "    "
   ]
  },
  {
   "cell_type": "code",
   "execution_count": null,
   "id": "ba0ee796",
   "metadata": {
    "ExecuteTime": {
     "end_time": "2021-04-28T19:40:13.886677Z",
     "start_time": "2021-04-28T19:40:13.076181Z"
    }
   },
   "outputs": [],
   "source": [
    "def solve_van_der_pol(K,C,x0,x1,tmax):\n",
    "    dt = 0.0001\n",
    "    par={'K':K,'C':C}\n",
    "    return solve_plot(van_der_pol,par,[x0,x1],tmax,dt,ranges=[[-3,3],[-5,5]])\n",
    "\n",
    "iplot4 = interactive(solve_van_der_pol,\n",
    "                    K=(0,1.0,0.01),\n",
    "                    C=(0,3.0,0.01), \n",
    "                    x0=(-1,1,0.01),\n",
    "                    x1=(-1,1,0.01),\n",
    "                    tmax=(1,100,1))\n",
    "\n",
    "iplot4"
   ]
  },
  {
   "cell_type": "markdown",
   "id": "c92b40b9",
   "metadata": {},
   "source": [
    "# Analisis armonico"
   ]
  },
  {
   "cell_type": "code",
   "execution_count": null,
   "id": "b5264fac",
   "metadata": {
    "ExecuteTime": {
     "end_time": "2021-04-28T19:40:25.723870Z",
     "start_time": "2021-04-28T19:40:25.707945Z"
    }
   },
   "outputs": [],
   "source": [
    "def solve_van_der_pol_fft(K,C,x0,x1,tmax,fmax):\n",
    "    dt = 0.0001\n",
    "    par={'K':K,'C':C}\n",
    "    return solve_plot(van_der_pol,par,[x0,x1],tmax,dt,ranges=[[-3,3],[-8,8]],fmax=fmax,wfft=True)\n"
   ]
  },
  {
   "cell_type": "code",
   "execution_count": null,
   "id": "adead2b1",
   "metadata": {
    "ExecuteTime": {
     "end_time": "2021-04-28T19:40:29.990713Z",
     "start_time": "2021-04-28T19:40:28.076473Z"
    }
   },
   "outputs": [],
   "source": [
    "solve_van_der_pol_fft(1.0,5.0,1,0,100,5)"
   ]
  },
  {
   "cell_type": "code",
   "execution_count": null,
   "id": "77485d01",
   "metadata": {
    "ExecuteTime": {
     "end_time": "2021-04-28T19:40:34.148358Z",
     "start_time": "2021-04-28T19:40:34.044631Z"
    }
   },
   "outputs": [],
   "source": [
    "iplot5 = interact_manual(solve_van_der_pol_fft,\n",
    "                    K=(0,1.0,0.01),\n",
    "                    C=(0,5.0,0.01), \n",
    "                    x0=(-1,1,0.01),\n",
    "                    x1=(-1,1,0.01),\n",
    "                    tmax=(1,100,1),\n",
    "                    fmax=(1,10,0.1),)\n"
   ]
  },
  {
   "cell_type": "code",
   "execution_count": null,
   "id": "e52a7027",
   "metadata": {},
   "outputs": [],
   "source": []
  }
 ],
 "metadata": {
  "kernelspec": {
   "display_name": "Python 3",
   "language": "python",
   "name": "python3"
  },
  "language_info": {
   "codemirror_mode": {
    "name": "ipython",
    "version": 3
   },
   "file_extension": ".py",
   "mimetype": "text/x-python",
   "name": "python",
   "nbconvert_exporter": "python",
   "pygments_lexer": "ipython3",
   "version": "3.7.8"
  },
  "toc": {
   "base_numbering": 1,
   "nav_menu": {},
   "number_sections": true,
   "sideBar": true,
   "skip_h1_title": false,
   "title_cell": "Table of Contents",
   "title_sidebar": "Contents",
   "toc_cell": false,
   "toc_position": {},
   "toc_section_display": true,
   "toc_window_display": false
  },
  "varInspector": {
   "cols": {
    "lenName": 16,
    "lenType": 16,
    "lenVar": 40
   },
   "kernels_config": {
    "python": {
     "delete_cmd_postfix": "",
     "delete_cmd_prefix": "del ",
     "library": "var_list.py",
     "varRefreshCmd": "print(var_dic_list())"
    },
    "r": {
     "delete_cmd_postfix": ") ",
     "delete_cmd_prefix": "rm(",
     "library": "var_list.r",
     "varRefreshCmd": "cat(var_dic_list()) "
    }
   },
   "types_to_exclude": [
    "module",
    "function",
    "builtin_function_or_method",
    "instance",
    "_Feature"
   ],
   "window_display": false
  }
 },
 "nbformat": 4,
 "nbformat_minor": 5
}
