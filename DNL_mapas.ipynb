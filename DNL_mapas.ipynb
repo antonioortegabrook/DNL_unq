{
 "cells": [
  {
   "cell_type": "markdown",
   "metadata": {},
   "source": [
    "[![Open In Colab](https://colab.research.google.com/assets/colab-badge.svg)](https://colab.research.google.com/github/meguia/DNL_unq/blob/main/DNL_mapas.ipynb)"
   ]
  },
  {
   "cell_type": "code",
   "execution_count": null,
   "metadata": {
    "ExecuteTime": {
     "end_time": "2021-04-27T02:09:35.055150Z",
     "start_time": "2021-04-27T02:09:34.845666Z"
    },
    "id": "sCL_EOF1K5t5"
   },
   "outputs": [],
   "source": [
    "import numpy as np\n",
    "from matplotlib import pyplot as plt\n",
    "from matplotlib import rcParams"
   ]
  },
  {
   "cell_type": "markdown",
   "metadata": {
    "id": "ggw68tAxhR1Y"
   },
   "source": [
    "# Funciones Iteradas"
   ]
  },
  {
   "cell_type": "markdown",
   "metadata": {
    "id": "vQY9SIBOhYHA"
   },
   "source": [
    "## Funciones Lineales"
   ]
  },
  {
   "cell_type": "markdown",
   "metadata": {
    "id": "JRI4vg55yoA5"
   },
   "source": [
    "Una Funcion me devuelve a la salida un **UNICO** valor que depende **SOLO** de la entrada (es **DETERMINISTA**). "
   ]
  },
  {
   "cell_type": "code",
   "execution_count": null,
   "metadata": {
    "ExecuteTime": {
     "end_time": "2021-04-27T02:09:51.533589Z",
     "start_time": "2021-04-27T02:09:51.523589Z"
    },
    "id": "YvprXjVocovI"
   },
   "outputs": [],
   "source": [
    "def f(x):\n",
    "  return 1.5*x"
   ]
  },
  {
   "cell_type": "code",
   "execution_count": null,
   "metadata": {
    "ExecuteTime": {
     "end_time": "2021-04-27T02:09:52.323478Z",
     "start_time": "2021-04-27T02:09:52.307401Z"
    },
    "colab": {
     "base_uri": "https://localhost:8080/"
    },
    "id": "T3GFpwmxfvmj",
    "outputId": "3f8a48dd-3670-4b2b-f4ca-637c4c49584c"
   },
   "outputs": [],
   "source": [
    "f(0.1)"
   ]
  },
  {
   "cell_type": "markdown",
   "metadata": {
    "id": "_QXu0zPbzJ27"
   },
   "source": [
    "**ITERAR** una funcion es volver a meter la salida de la funcion en la entrada (Feedback positivo), o bien volver a aplicar la funcion de forma **recursiva **"
   ]
  },
  {
   "cell_type": "code",
   "execution_count": null,
   "metadata": {
    "ExecuteTime": {
     "end_time": "2021-04-27T02:09:53.916487Z",
     "start_time": "2021-04-27T02:09:53.899419Z"
    },
    "colab": {
     "base_uri": "https://localhost:8080/"
    },
    "id": "5agilFEFcw-q",
    "outputId": "82c9abf0-db7d-428b-8c6f-c37b76d02aba"
   },
   "outputs": [],
   "source": [
    "f(f(f(f(0.1))))"
   ]
  },
  {
   "cell_type": "markdown",
   "metadata": {
    "id": "ag_qjTjBzrOE"
   },
   "source": [
    "Mas claro es hacer una TABLA de valores sucesivos de la iteracion llamando $x_n$ a la n-esima iteracion de la funcion"
   ]
  },
  {
   "cell_type": "code",
   "execution_count": null,
   "metadata": {
    "ExecuteTime": {
     "end_time": "2021-04-27T02:09:54.828762Z",
     "start_time": "2021-04-27T02:09:54.811807Z"
    },
    "colab": {
     "base_uri": "https://localhost:8080/"
    },
    "id": "oHxyI3n4dGfI",
    "outputId": "64918e3c-a817-49e8-d0e5-c1e8754b98b6"
   },
   "outputs": [],
   "source": [
    "x0 = 0.1\n",
    "x1 = f(x0)\n",
    "x2 = f(x1)\n",
    "x3 = f(x2)\n",
    "x4 = f(x3)\n",
    "[x0,x1,x2,x3,x4]"
   ]
  },
  {
   "cell_type": "markdown",
   "metadata": {
    "id": "kOmH3Gltz3hx"
   },
   "source": [
    "Esto se puede hacer de forma recursiva usando un bucle *for* una cantidad fija de veces y guardando los valores $x_n$ en un array. \n",
    "\n",
    "**T** es la cantidad de veces que vamos a iterar, para aludir al **TIEMPO**. el array $x_n$ se llama **TRAYECTORIA** u **ORBITA**"
   ]
  },
  {
   "cell_type": "code",
   "execution_count": null,
   "metadata": {
    "ExecuteTime": {
     "end_time": "2021-04-27T02:09:55.960360Z",
     "start_time": "2021-04-27T02:09:55.948394Z"
    },
    "colab": {
     "base_uri": "https://localhost:8080/"
    },
    "id": "p82N79kSf50M",
    "outputId": "d4b6f078-0b7d-47de-a47b-f5cb903a8873"
   },
   "outputs": [],
   "source": [
    "T = 4\n",
    "x = 0.1\n",
    "xn = [x]\n",
    "for t in range(T):\n",
    "  x = f(x)\n",
    "  xn.append(x)\n",
    "xn  "
   ]
  },
  {
   "cell_type": "markdown",
   "metadata": {
    "id": "-_DUAS3O0sjr"
   },
   "source": [
    "Y podemos graficar el resultado usando la funcion plot de matplotlib"
   ]
  },
  {
   "cell_type": "code",
   "execution_count": null,
   "metadata": {
    "ExecuteTime": {
     "end_time": "2021-04-27T02:09:57.590893Z",
     "start_time": "2021-04-27T02:09:57.580232Z"
    },
    "id": "bw-PNo4BgPS3",
    "scrolled": true
   },
   "outputs": [],
   "source": [
    "T = 100\n",
    "x = 0.1\n",
    "xn = [x]\n",
    "for t in range(T):\n",
    "  x = f(x)\n",
    "  xn.append(x)\n",
    "xn"
   ]
  },
  {
   "cell_type": "code",
   "execution_count": null,
   "metadata": {
    "ExecuteTime": {
     "end_time": "2021-04-27T02:09:59.094893Z",
     "start_time": "2021-04-27T02:09:58.972127Z"
    },
    "colab": {
     "base_uri": "https://localhost:8080/",
     "height": 331
    },
    "id": "xQY3iExCgiQ6",
    "outputId": "59a2f3f2-87af-411e-b7bc-ca8b2195d3f3"
   },
   "outputs": [],
   "source": [
    "rcParams['figure.figsize'] = (20, 5)\n",
    "plt.plot(xn,'o-');"
   ]
  },
  {
   "cell_type": "code",
   "execution_count": null,
   "metadata": {
    "ExecuteTime": {
     "end_time": "2021-04-27T02:10:01.232115Z",
     "start_time": "2021-04-27T02:10:00.923373Z"
    },
    "colab": {
     "base_uri": "https://localhost:8080/",
     "height": 337
    },
    "id": "6barB4OCrEou",
    "outputId": "6ca98877-117b-48d6-9326-5e4213d9481d"
   },
   "outputs": [],
   "source": [
    "plt.semilogy(xn,'o-');"
   ]
  },
  {
   "cell_type": "markdown",
   "metadata": {
    "id": "1K5NWyf8hiXK"
   },
   "source": [
    "## Funciones No Lineales"
   ]
  },
  {
   "cell_type": "code",
   "execution_count": null,
   "metadata": {
    "ExecuteTime": {
     "end_time": "2021-04-17T21:56:31.286293Z",
     "start_time": "2021-04-17T21:56:31.276296Z"
    },
    "id": "kpJay6V4hQFY"
   },
   "outputs": [],
   "source": [
    "def f(x):\n",
    "  return x*x"
   ]
  },
  {
   "cell_type": "code",
   "execution_count": null,
   "metadata": {
    "ExecuteTime": {
     "end_time": "2021-04-17T21:56:32.227619Z",
     "start_time": "2021-04-17T21:56:32.123869Z"
    },
    "colab": {
     "base_uri": "https://localhost:8080/",
     "height": 337
    },
    "id": "cUG54SsxhtFY",
    "outputId": "cc978e1e-c69a-48c9-ef18-049c31740ea5"
   },
   "outputs": [],
   "source": [
    "T = 20\n",
    "x = 0.999\n",
    "xn = [x]\n",
    "for t in range(T):\n",
    "  x = f(x)\n",
    "  xn.append(x)\n",
    "\n",
    "plt.plot(xn,'-o')  "
   ]
  },
  {
   "cell_type": "markdown",
   "metadata": {
    "ExecuteTime": {
     "end_time": "2021-04-27T02:13:22.134311Z",
     "start_time": "2021-04-27T02:13:22.116179Z"
    }
   },
   "source": [
    "# Sistema Dinamico\n",
    "\n",
    "**Un sistema dinamico es un sistema que evoluciona en el tiempo siguiendo una regla determinista fija.**\n",
    "\n",
    "El sistema dinamico puede tener varias variables, en este caso estamos viendo la evolucion de una **unica** variable (x) por eso el sistema es **1D** (evoluciona en la recta)\n",
    "\n",
    "La Regla determinista es fija durante la evolucion pero puede depender de uno o mas **parametros**.\n",
    "\n",
    "Gran parte del estudio de los Sistemas Dinamicos se dedica a estudiar como cambian cualitativamente la evolucion temporal del sistema cuando cambian los parametros (Teoria de Bifurcaciones)\n"
   ]
  },
  {
   "cell_type": "markdown",
   "metadata": {
    "id": "QEu053iCtnFe"
   },
   "source": [
    "## Mapa (sistema dinamico discreto en el tiempo)\n",
    "iteracion de una funcion en el tiempo\n",
    "\n",
    "$x_{n+1}=f(x_n)$\n",
    "\n",
    "Ejemplo funcion no lineal cuadratica\n",
    "\n",
    "$x_{n+1}=x_n^2$"
   ]
  },
  {
   "cell_type": "code",
   "execution_count": null,
   "metadata": {
    "ExecuteTime": {
     "end_time": "2021-04-27T02:16:24.351028Z",
     "start_time": "2021-04-27T02:16:24.236870Z"
    },
    "colab": {
     "base_uri": "https://localhost:8080/",
     "height": 354
    },
    "id": "u5i8IxgMmyTp",
    "outputId": "45cd848c-00f6-4032-864e-f4aee4930d94"
   },
   "outputs": [],
   "source": [
    "# multiples condiciones iniciales\n",
    "T = 12\n",
    "xini = [0.01, 0.2, 0.5, 0.9, 0.999, 1, 1.001]\n",
    "for x in xini:\n",
    "  xn = [x]\n",
    "  for t in range(T):\n",
    "    x = f(x)\n",
    "    xn.append(x)\n",
    "  plt.plot(xn,'-o');  "
   ]
  },
  {
   "cell_type": "markdown",
   "metadata": {},
   "source": [
    "Modificamos ligeramente la funcion\n",
    "\n",
    "$x_{n+1}=x_n^2+0.2$"
   ]
  },
  {
   "cell_type": "code",
   "execution_count": null,
   "metadata": {
    "ExecuteTime": {
     "end_time": "2021-04-27T02:17:49.628432Z",
     "start_time": "2021-04-27T02:17:49.613316Z"
    },
    "id": "KfHxeJ_6rXAZ"
   },
   "outputs": [],
   "source": [
    "# puntos fijos\n",
    "def f2(x):\n",
    "  return x*x+0.2"
   ]
  },
  {
   "cell_type": "code",
   "execution_count": null,
   "metadata": {
    "ExecuteTime": {
     "end_time": "2021-04-27T02:18:03.304103Z",
     "start_time": "2021-04-27T02:18:03.196068Z"
    },
    "colab": {
     "base_uri": "https://localhost:8080/",
     "height": 371
    },
    "id": "yV8K8RxSuuS6",
    "outputId": "c98fe893-6a33-4c49-8f1b-31b89597d665"
   },
   "outputs": [],
   "source": [
    "# multiples condiciones iniciales\n",
    "T = 15\n",
    "xini = [0, 0.1, 0.2, 0.3, 0.5, 0.6,0.7,0.723,0.724]\n",
    "for x in xini:\n",
    "  xn = [x]\n",
    "  for t in range(T):\n",
    "    x = f2(x)\n",
    "    xn.append(x)\n",
    "  plt.plot(xn,'-o');  "
   ]
  },
  {
   "cell_type": "code",
   "execution_count": null,
   "metadata": {
    "ExecuteTime": {
     "end_time": "2021-04-27T02:18:11.263308Z",
     "start_time": "2021-04-27T02:18:11.245321Z"
    },
    "colab": {
     "base_uri": "https://localhost:8080/"
    },
    "id": "3cwufw13xS7c",
    "outputId": "f08fed39-cee4-4e62-f215-3c0a86219457"
   },
   "outputs": [],
   "source": [
    "(1+np.sqrt(0.2))/2"
   ]
  },
  {
   "cell_type": "code",
   "execution_count": null,
   "metadata": {
    "ExecuteTime": {
     "end_time": "2021-04-27T02:18:25.331344Z",
     "start_time": "2021-04-27T02:18:25.229170Z"
    }
   },
   "outputs": [],
   "source": [
    "# Diagramas de estado final\n",
    "T = 15\n",
    "xini = [0, 0.1, 0.2, 0.3, 0.5, 0.6,0.7,0.723,0.724]\n",
    "for x in xini:\n",
    "  xn = [x]\n",
    "  for t in range(T):\n",
    "    x = f2(x)\n",
    "    xn.append(x)\n",
    "  plt.plot([1]*(T+1),xn,'.',alpha=0.1); "
   ]
  },
  {
   "cell_type": "code",
   "execution_count": null,
   "metadata": {
    "id": "yCiKTcnRTkqG"
   },
   "outputs": [],
   "source": []
  }
 ],
 "metadata": {
  "colab": {
   "collapsed_sections": [],
   "name": "DNL_mapas.ipynb",
   "provenance": [],
   "toc_visible": true
  },
  "kernelspec": {
   "display_name": "Python 3",
   "language": "python",
   "name": "python3"
  },
  "language_info": {
   "codemirror_mode": {
    "name": "ipython",
    "version": 3
   },
   "file_extension": ".py",
   "mimetype": "text/x-python",
   "name": "python",
   "nbconvert_exporter": "python",
   "pygments_lexer": "ipython3",
   "version": "3.7.8"
  },
  "toc": {
   "base_numbering": 1,
   "nav_menu": {},
   "number_sections": true,
   "sideBar": true,
   "skip_h1_title": false,
   "title_cell": "Table of Contents",
   "title_sidebar": "Contents",
   "toc_cell": false,
   "toc_position": {},
   "toc_section_display": true,
   "toc_window_display": false
  },
  "varInspector": {
   "cols": {
    "lenName": 16,
    "lenType": 16,
    "lenVar": 40
   },
   "kernels_config": {
    "python": {
     "delete_cmd_postfix": "",
     "delete_cmd_prefix": "del ",
     "library": "var_list.py",
     "varRefreshCmd": "print(var_dic_list())"
    },
    "r": {
     "delete_cmd_postfix": ") ",
     "delete_cmd_prefix": "rm(",
     "library": "var_list.r",
     "varRefreshCmd": "cat(var_dic_list()) "
    }
   },
   "types_to_exclude": [
    "module",
    "function",
    "builtin_function_or_method",
    "instance",
    "_Feature"
   ],
   "window_display": false
  }
 },
 "nbformat": 4,
 "nbformat_minor": 1
}
