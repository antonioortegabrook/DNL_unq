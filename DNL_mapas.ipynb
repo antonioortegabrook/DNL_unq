{
 "cells": [
  {
   "cell_type": "code",
   "execution_count": 1,
   "metadata": {
    "ExecuteTime": {
     "end_time": "2021-04-17T21:55:55.849056Z",
     "start_time": "2021-04-17T21:55:55.580072Z"
    },
    "id": "sCL_EOF1K5t5"
   },
   "outputs": [],
   "source": [
    "import numpy as np\n",
    "from matplotlib import pyplot as plt\n",
    "from matplotlib import rcParams\n",
    "rcParams['figure.figsize'] = (20, 5)"
   ]
  },
  {
   "cell_type": "markdown",
   "metadata": {
    "id": "ggw68tAxhR1Y"
   },
   "source": [
    "# Funciones Iteradas"
   ]
  },
  {
   "cell_type": "markdown",
   "metadata": {
    "id": "vQY9SIBOhYHA"
   },
   "source": [
    "## Funciones Lineales"
   ]
  },
  {
   "cell_type": "markdown",
   "metadata": {
    "id": "JRI4vg55yoA5"
   },
   "source": [
    "Una Funcion me devuelve a la salida un **UNICO** valor que depende **SOLO** de la entrada (es **DETERMINISTA**). "
   ]
  },
  {
   "cell_type": "code",
   "execution_count": 2,
   "metadata": {
    "ExecuteTime": {
     "end_time": "2021-04-17T21:55:59.396919Z",
     "start_time": "2021-04-17T21:55:59.379857Z"
    },
    "id": "YvprXjVocovI"
   },
   "outputs": [],
   "source": [
    "def f(x):\n",
    "  return 1.5*x"
   ]
  },
  {
   "cell_type": "code",
   "execution_count": 3,
   "metadata": {
    "ExecuteTime": {
     "end_time": "2021-04-17T21:56:02.080132Z",
     "start_time": "2021-04-17T21:56:02.060044Z"
    },
    "colab": {
     "base_uri": "https://localhost:8080/"
    },
    "id": "T3GFpwmxfvmj",
    "outputId": "3f8a48dd-3670-4b2b-f4ca-637c4c49584c"
   },
   "outputs": [
    {
     "data": {
      "text/plain": [
       "0.15000000000000002"
      ]
     },
     "execution_count": 3,
     "metadata": {},
     "output_type": "execute_result"
    }
   ],
   "source": [
    "f(0.1)"
   ]
  },
  {
   "cell_type": "markdown",
   "metadata": {
    "id": "_QXu0zPbzJ27"
   },
   "source": [
    "**ITERAR** una funcion es volver a meter la salida de la funcion en la entrada (Feedback positivo), o bien volver a aplicar la funcion de forma **recursiva **"
   ]
  },
  {
   "cell_type": "code",
   "execution_count": 4,
   "metadata": {
    "ExecuteTime": {
     "end_time": "2021-04-17T21:56:05.266875Z",
     "start_time": "2021-04-17T21:56:05.247890Z"
    },
    "colab": {
     "base_uri": "https://localhost:8080/"
    },
    "id": "5agilFEFcw-q",
    "outputId": "82c9abf0-db7d-428b-8c6f-c37b76d02aba"
   },
   "outputs": [
    {
     "data": {
      "text/plain": [
       "0.5062500000000001"
      ]
     },
     "execution_count": 4,
     "metadata": {},
     "output_type": "execute_result"
    }
   ],
   "source": [
    "f(f(f(f(0.1))))"
   ]
  },
  {
   "cell_type": "markdown",
   "metadata": {
    "id": "ag_qjTjBzrOE"
   },
   "source": [
    "Mas claro es hacer una TABLA de valores sucesivos de la iteracion llamando $x_n$ a la n-esima iteracion de la funcion"
   ]
  },
  {
   "cell_type": "code",
   "execution_count": 5,
   "metadata": {
    "ExecuteTime": {
     "end_time": "2021-04-17T21:56:10.748478Z",
     "start_time": "2021-04-17T21:56:10.732500Z"
    },
    "colab": {
     "base_uri": "https://localhost:8080/"
    },
    "id": "oHxyI3n4dGfI",
    "outputId": "64918e3c-a817-49e8-d0e5-c1e8754b98b6"
   },
   "outputs": [
    {
     "data": {
      "text/plain": [
       "[0.1, 0.15000000000000002, 0.22500000000000003, 0.3375, 0.5062500000000001]"
      ]
     },
     "execution_count": 5,
     "metadata": {},
     "output_type": "execute_result"
    }
   ],
   "source": [
    "x0 = 0.1\n",
    "x1 = f(x0)\n",
    "x2 = f(x1)\n",
    "x3 = f(x2)\n",
    "x4 = f(x3)\n",
    "[x0,x1,x2,x3,x4]"
   ]
  },
  {
   "cell_type": "markdown",
   "metadata": {
    "id": "kOmH3Gltz3hx"
   },
   "source": [
    "Esto se puede hacer de forma recursiva usando un bucle *for* una cantidad fija de veces y guardando los valores $x_n$ en un array. \n",
    "\n",
    "**T** es la cantidad de veces que vamos a iterar, para aludir al **TIEMPO**. el array $x_n$ se llama **TRAYECTORIA** u **ORBITA**"
   ]
  },
  {
   "cell_type": "code",
   "execution_count": 6,
   "metadata": {
    "ExecuteTime": {
     "end_time": "2021-04-17T21:56:13.650177Z",
     "start_time": "2021-04-17T21:56:13.636238Z"
    },
    "colab": {
     "base_uri": "https://localhost:8080/"
    },
    "id": "p82N79kSf50M",
    "outputId": "d4b6f078-0b7d-47de-a47b-f5cb903a8873"
   },
   "outputs": [
    {
     "data": {
      "text/plain": [
       "[0.1, 0.15000000000000002, 0.22500000000000003, 0.3375, 0.5062500000000001]"
      ]
     },
     "execution_count": 6,
     "metadata": {},
     "output_type": "execute_result"
    }
   ],
   "source": [
    "T = 4\n",
    "x = 0.1\n",
    "xn = [x]\n",
    "for t in range(T):\n",
    "  x = f(x)\n",
    "  xn.append(x)\n",
    "xn  "
   ]
  },
  {
   "cell_type": "markdown",
   "metadata": {
    "id": "-_DUAS3O0sjr"
   },
   "source": [
    "Y podemos graficar el resultado usando la funcion plot de matplotlib"
   ]
  },
  {
   "cell_type": "code",
   "execution_count": 7,
   "metadata": {
    "ExecuteTime": {
     "end_time": "2021-04-17T21:56:16.340075Z",
     "start_time": "2021-04-17T21:56:16.324117Z"
    },
    "id": "bw-PNo4BgPS3",
    "scrolled": true
   },
   "outputs": [
    {
     "data": {
      "text/plain": [
       "[0.1,\n",
       " 0.15000000000000002,\n",
       " 0.22500000000000003,\n",
       " 0.3375,\n",
       " 0.5062500000000001,\n",
       " 0.7593750000000001,\n",
       " 1.1390625,\n",
       " 1.7085937500000001,\n",
       " 2.562890625,\n",
       " 3.8443359375000004,\n",
       " 5.7665039062500005,\n",
       " 8.649755859375,\n",
       " 12.974633789062501,\n",
       " 19.461950683593752,\n",
       " 29.192926025390626,\n",
       " 43.78938903808594,\n",
       " 65.68408355712891,\n",
       " 98.52612533569337,\n",
       " 147.78918800354006,\n",
       " 221.6837820053101,\n",
       " 332.5256730079651,\n",
       " 498.78850951194767,\n",
       " 748.1827642679215,\n",
       " 1122.2741464018823,\n",
       " 1683.4112196028234,\n",
       " 2525.116829404235,\n",
       " 3787.6752441063527,\n",
       " 5681.512866159529,\n",
       " 8522.269299239293,\n",
       " 12783.40394885894,\n",
       " 19175.10592328841,\n",
       " 28762.658884932614,\n",
       " 43143.988327398925,\n",
       " 64715.98249109839,\n",
       " 97073.97373664757,\n",
       " 145610.96060497136,\n",
       " 218416.44090745703,\n",
       " 327624.66136118554,\n",
       " 491436.9920417783,\n",
       " 737155.4880626674,\n",
       " 1105733.232094001,\n",
       " 1658599.8481410015,\n",
       " 2487899.7722115023,\n",
       " 3731849.6583172535,\n",
       " 5597774.48747588,\n",
       " 8396661.731213821,\n",
       " 12594992.59682073,\n",
       " 18892488.895231098,\n",
       " 28338733.342846647,\n",
       " 42508100.01426997,\n",
       " 63762150.02140495,\n",
       " 95643225.03210743,\n",
       " 143464837.54816115,\n",
       " 215197256.32224172,\n",
       " 322795884.48336256,\n",
       " 484193826.72504383,\n",
       " 726290740.0875658,\n",
       " 1089436110.1313486,\n",
       " 1634154165.197023,\n",
       " 2451231247.795534,\n",
       " 3676846871.693301,\n",
       " 5515270307.539951,\n",
       " 8272905461.309927,\n",
       " 12409358191.96489,\n",
       " 18614037287.947334,\n",
       " 27921055931.921,\n",
       " 41881583897.8815,\n",
       " 62822375846.82225,\n",
       " 94233563770.23337,\n",
       " 141350345655.35004,\n",
       " 212025518483.02505,\n",
       " 318038277724.5376,\n",
       " 477057416586.8064,\n",
       " 715586124880.2096,\n",
       " 1073379187320.3145,\n",
       " 1610068780980.4717,\n",
       " 2415103171470.7075,\n",
       " 3622654757206.0615,\n",
       " 5433982135809.092,\n",
       " 8150973203713.638,\n",
       " 12226459805570.457,\n",
       " 18339689708355.688,\n",
       " 27509534562533.53,\n",
       " 41264301843800.3,\n",
       " 61896452765700.445,\n",
       " 92844679148550.67,\n",
       " 139267018722826.0,\n",
       " 208900528084239.0,\n",
       " 313350792126358.5,\n",
       " 470026188189537.75,\n",
       " 705039282284306.6,\n",
       " 1057558923426460.0,\n",
       " 1586338385139690.0,\n",
       " 2379507577709535.0,\n",
       " 3569261366564302.5,\n",
       " 5353892049846454.0,\n",
       " 8030838074769681.0,\n",
       " 1.2046257112154522e+16,\n",
       " 1.8069385668231784e+16,\n",
       " 2.7104078502347676e+16,\n",
       " 4.065611775352151e+16]"
      ]
     },
     "execution_count": 7,
     "metadata": {},
     "output_type": "execute_result"
    }
   ],
   "source": [
    "T = 100\n",
    "x = 0.1\n",
    "xn = [x]\n",
    "for t in range(T):\n",
    "  x = f(x)\n",
    "  xn.append(x)\n",
    "xn"
   ]
  },
  {
   "cell_type": "code",
   "execution_count": 8,
   "metadata": {
    "ExecuteTime": {
     "end_time": "2021-04-17T21:56:24.700504Z",
     "start_time": "2021-04-17T21:56:24.579581Z"
    },
    "colab": {
     "base_uri": "https://localhost:8080/",
     "height": 331
    },
    "id": "xQY3iExCgiQ6",
    "outputId": "59a2f3f2-87af-411e-b7bc-ca8b2195d3f3"
   },
   "outputs": [
    {
     "data": {
      "image/png": "[encoded data removed]",
      "text/plain": [
       "<Figure size 1440x360 with 1 Axes>"
      ]
     },
     "metadata": {
      "needs_background": "light"
     },
     "output_type": "display_data"
    }
   ],
   "source": [
    "plt.plot(xn,'o-');"
   ]
  },
  {
   "cell_type": "code",
   "execution_count": 9,
   "metadata": {
    "ExecuteTime": {
     "end_time": "2021-04-17T21:56:28.493073Z",
     "start_time": "2021-04-17T21:56:28.187825Z"
    },
    "colab": {
     "base_uri": "https://localhost:8080/",
     "height": 337
    },
    "id": "6barB4OCrEou",
    "outputId": "6ca98877-117b-48d6-9326-5e4213d9481d"
   },
   "outputs": [
    {
     "data": {
      "image/png": "[encoded data removed]",
      "text/plain": [
       "<Figure size 1440x360 with 1 Axes>"
      ]
     },
     "metadata": {
      "needs_background": "light"
     },
     "output_type": "display_data"
    }
   ],
   "source": [
    "plt.semilogy(xn,'o-');"
   ]
  },
  {
   "cell_type": "markdown",
   "metadata": {
    "id": "1K5NWyf8hiXK"
   },
   "source": [
    "## Funciones No Lineales"
   ]
  },
  {
   "cell_type": "code",
   "execution_count": 10,
   "metadata": {
    "ExecuteTime": {
     "end_time": "2021-04-17T21:56:31.286293Z",
     "start_time": "2021-04-17T21:56:31.276296Z"
    },
    "id": "kpJay6V4hQFY"
   },
   "outputs": [],
   "source": [
    "def f(x):\n",
    "  return x*x"
   ]
  },
  {
   "cell_type": "code",
   "execution_count": 11,
   "metadata": {
    "ExecuteTime": {
     "end_time": "2021-04-17T21:56:32.227619Z",
     "start_time": "2021-04-17T21:56:32.123869Z"
    },
    "colab": {
     "base_uri": "https://localhost:8080/",
     "height": 337
    },
    "id": "cUG54SsxhtFY",
    "outputId": "cc978e1e-c69a-48c9-ef18-049c31740ea5"
   },
   "outputs": [
    {
     "data": {
      "text/plain": [
       "[<matplotlib.lines.Line2D at 0x24e1e1c8f48>]"
      ]
     },
     "execution_count": 11,
     "metadata": {},
     "output_type": "execute_result"
    },
    {
     "data": {
      "image/png": "[encoded data removed]",
      "text/plain": [
       "<Figure size 1440x360 with 1 Axes>"
      ]
     },
     "metadata": {
      "needs_background": "light"
     },
     "output_type": "display_data"
    }
   ],
   "source": [
    "T = 20\n",
    "x = 0.999\n",
    "xn = [x]\n",
    "for t in range(T):\n",
    "  x = f(x)\n",
    "  xn.append(x)\n",
    "\n",
    "plt.plot(xn,'-o')  "
   ]
  },
  {
   "cell_type": "markdown",
   "metadata": {
    "id": "QEu053iCtnFe"
   },
   "source": [
    "# Sistema Dinamico\n",
    "## Mapa (sistema dinamico discreto en el tiempo)\n",
    "iteracion de una funcion en el tiempo\n",
    "\n",
    "$x_{n+1}=x_n^2$"
   ]
  },
  {
   "cell_type": "code",
   "execution_count": 12,
   "metadata": {
    "ExecuteTime": {
     "end_time": "2021-04-17T21:56:41.111527Z",
     "start_time": "2021-04-17T21:56:40.996671Z"
    },
    "colab": {
     "base_uri": "https://localhost:8080/",
     "height": 354
    },
    "id": "u5i8IxgMmyTp",
    "outputId": "45cd848c-00f6-4032-864e-f4aee4930d94"
   },
   "outputs": [
    {
     "data": {
      "image/png": "[encoded data removed]",
      "text/plain": [
       "<Figure size 1440x360 with 1 Axes>"
      ]
     },
     "metadata": {
      "needs_background": "light"
     },
     "output_type": "display_data"
    }
   ],
   "source": [
    "# multiples condiciones iniciales\n",
    "T = 12\n",
    "xini = [0.01, 0.2, 0.5, 0.9, 0.999, 1, 1.001]\n",
    "for x in xini:\n",
    "  xn = [x]\n",
    "  for t in range(T):\n",
    "    x = f(x)\n",
    "    xn.append(x)\n",
    "  plt.plot(xn,'-o');  "
   ]
  },
  {
   "cell_type": "code",
   "execution_count": 26,
   "metadata": {
    "ExecuteTime": {
     "end_time": "2021-04-17T22:24:01.192114Z",
     "start_time": "2021-04-17T22:24:01.181143Z"
    },
    "id": "KfHxeJ_6rXAZ"
   },
   "outputs": [],
   "source": [
    "# puntos fijos\n",
    "def f2(x):\n",
    "  return x*x+0.2"
   ]
  },
  {
   "cell_type": "code",
   "execution_count": 30,
   "metadata": {
    "ExecuteTime": {
     "end_time": "2021-04-17T22:24:19.851268Z",
     "start_time": "2021-04-17T22:24:19.749512Z"
    },
    "colab": {
     "base_uri": "https://localhost:8080/",
     "height": 371
    },
    "id": "yV8K8RxSuuS6",
    "outputId": "c98fe893-6a33-4c49-8f1b-31b89597d665"
   },
   "outputs": [
    {
     "data": {
      "image/png": "[encoded data removed]",
      "text/plain": [
       "<Figure size 1440x360 with 1 Axes>"
      ]
     },
     "metadata": {
      "needs_background": "light"
     },
     "output_type": "display_data"
    }
   ],
   "source": [
    "# multiples condiciones iniciales\n",
    "T = 15\n",
    "xini = [0, 0.01, 0.2, 0.3, 0.5, 0.6,0.7,0.723,0.724]\n",
    "for x in xini:\n",
    "  xn = [x]\n",
    "  for t in range(T):\n",
    "    x = f2(x)\n",
    "    xn.append(x)\n",
    "  plt.plot(xn,'-o');  "
   ]
  },
  {
   "cell_type": "code",
   "execution_count": 22,
   "metadata": {
    "ExecuteTime": {
     "end_time": "2021-04-17T21:58:48.350240Z",
     "start_time": "2021-04-17T21:58:48.340267Z"
    },
    "colab": {
     "base_uri": "https://localhost:8080/"
    },
    "id": "3cwufw13xS7c",
    "outputId": "f08fed39-cee4-4e62-f215-3c0a86219457"
   },
   "outputs": [
    {
     "data": {
      "text/plain": [
       "0.7236067977499789"
      ]
     },
     "execution_count": 22,
     "metadata": {},
     "output_type": "execute_result"
    }
   ],
   "source": [
    "(1+np.sqrt(0.2))/2"
   ]
  },
  {
   "cell_type": "markdown",
   "metadata": {
    "id": "vnkxI0wISNyy"
   },
   "source": [
    "# Mapa Logistico\n",
    "\n",
    "$x_{n+1}=\\mu*x_n*(1-x_n)$\n"
   ]
  },
  {
   "cell_type": "code",
   "execution_count": 2,
   "metadata": {
    "id": "bjwTWjIgK_z8"
   },
   "outputs": [],
   "source": [
    "def f(x,mu):\n",
    "  return mu*x*(1-x)"
   ]
  },
  {
   "cell_type": "markdown",
   "metadata": {
    "id": "PdCWET-jSqNS"
   },
   "source": [
    "Grafico de la orbita (trayectoria) durante T iteraciones, para una condicion inicial dada $x_0$ y un valor de parametro $\\mu$"
   ]
  },
  {
   "cell_type": "code",
   "execution_count": 45,
   "metadata": {
    "colab": {
     "base_uri": "https://localhost:8080/",
     "height": 320
    },
    "id": "WhtiR5ZeOcX9",
    "outputId": "11fa07c3-c346-4328-dff8-cdd56b6051e2"
   },
   "outputs": [
    {
     "data": {
      "image/png": "[encoded data removed]",
      "text/plain": [
       "<Figure size 1440x360 with 1 Axes>"
      ]
     },
     "metadata": {
      "needs_background": "light",
      "tags": []
     },
     "output_type": "display_data"
    }
   ],
   "source": [
    "T = 3000\n",
    "mu = 3.2\n",
    "x = 0.9 # valor inicial\n",
    "orbita = [x]\n",
    "for t in range(T):\n",
    "  x = f(x,mu)\n",
    "  orbita.append(x)\n",
    "fig = plt.figure(figsize=(20,5))\n",
    "plt.plot(orbita);"
   ]
  },
  {
   "cell_type": "code",
   "execution_count": 46,
   "metadata": {
    "colab": {
     "base_uri": "https://localhost:8080/",
     "height": 265
    },
    "id": "lFFfleFsTcks",
    "outputId": "4a435dbf-32a6-4ce7-87f1-11cadff66f6d"
   },
   "outputs": [
    {
     "data": {
      "image/png": "[encoded data removed]",
      "text/plain": [
       "<Figure size 432x288 with 1 Axes>"
      ]
     },
     "metadata": {
      "needs_background": "light",
      "tags": []
     },
     "output_type": "display_data"
    }
   ],
   "source": [
    "plt.hist(orbita[1000:],bins=np.arange(100)*0.01);"
   ]
  },
  {
   "cell_type": "code",
   "execution_count": null,
   "metadata": {
    "id": "yCiKTcnRTkqG"
   },
   "outputs": [],
   "source": []
  }
 ],
 "metadata": {
  "colab": {
   "collapsed_sections": [],
   "name": "DNL_mapas.ipynb",
   "provenance": [],
   "toc_visible": true
  },
  "kernelspec": {
   "display_name": "Python 3",
   "language": "python",
   "name": "python3"
  },
  "language_info": {
   "codemirror_mode": {
    "name": "ipython",
    "version": 3
   },
   "file_extension": ".py",
   "mimetype": "text/x-python",
   "name": "python",
   "nbconvert_exporter": "python",
   "pygments_lexer": "ipython3",
   "version": "3.7.8"
  },
  "toc": {
   "base_numbering": 1,
   "nav_menu": {},
   "number_sections": true,
   "sideBar": true,
   "skip_h1_title": false,
   "title_cell": "Table of Contents",
   "title_sidebar": "Contents",
   "toc_cell": false,
   "toc_position": {},
   "toc_section_display": true,
   "toc_window_display": false
  },
  "varInspector": {
   "cols": {
    "lenName": 16,
    "lenType": 16,
    "lenVar": 40
   },
   "kernels_config": {
    "python": {
     "delete_cmd_postfix": "",
     "delete_cmd_prefix": "del ",
     "library": "var_list.py",
     "varRefreshCmd": "print(var_dic_list())"
    },
    "r": {
     "delete_cmd_postfix": ") ",
     "delete_cmd_prefix": "rm(",
     "library": "var_list.r",
     "varRefreshCmd": "cat(var_dic_list()) "
    }
   },
   "types_to_exclude": [
    "module",
    "function",
    "builtin_function_or_method",
    "instance",
    "_Feature"
   ],
   "window_display": false
  }
 },
 "nbformat": 4,
 "nbformat_minor": 1
}
