{
 "cells": [
  {
   "cell_type": "code",
   "execution_count": 1,
   "id": "1d063e44",
   "metadata": {
    "ExecuteTime": {
     "end_time": "2021-06-23T23:01:45.453363Z",
     "start_time": "2021-06-23T23:01:44.890723Z"
    },
    "id": "1d063e44"
   },
   "outputs": [],
   "source": [
    "from sympy import *\n",
    "from sympy.plotting import plot"
   ]
  },
  {
   "cell_type": "markdown",
   "id": "7gZXm0_75Yod",
   "metadata": {
    "id": "7gZXm0_75Yod"
   },
   "source": [
    "# Calculo de derivadas usando la funcion diff de sympy"
   ]
  },
  {
   "cell_type": "markdown",
   "id": "4Hha9T7j5OWx",
   "metadata": {
    "id": "4Hha9T7j5OWx"
   },
   "source": [
    "Primero definimos que variables van a ser interpretadas como tales por sympy, y luego calculamos la derivada de $t^2$"
   ]
  },
  {
   "cell_type": "code",
   "execution_count": 2,
   "id": "b076397d",
   "metadata": {
    "ExecuteTime": {
     "end_time": "2021-06-23T23:01:46.053757Z",
     "start_time": "2021-06-23T23:01:46.048770Z"
    },
    "colab": {
     "base_uri": "https://localhost:8080/",
     "height": 38
    },
    "id": "ZAcGbGFgCXPG",
    "outputId": "972328c7-ef07-4f56-a327-f6b0130ed1b8"
   },
   "outputs": [
    {
     "name": "stdout",
     "output_type": "stream",
     "text": [
      "t**2\n"
     ]
    }
   ],
   "source": [
    "t = symbols('t')\n",
    "x = t**2\n",
    "print(x)"
   ]
  },
  {
   "cell_type": "code",
   "execution_count": 3,
   "id": "ZAcGbGFgCXPG",
   "metadata": {
    "ExecuteTime": {
     "end_time": "2021-06-23T23:01:46.569197Z",
     "start_time": "2021-06-23T23:01:46.505548Z"
    },
    "colab": {
     "base_uri": "https://localhost:8080/",
     "height": 38
    },
    "id": "ZAcGbGFgCXPG",
    "outputId": "972328c7-ef07-4f56-a327-f6b0130ed1b8"
   },
   "outputs": [
    {
     "name": "stdout",
     "output_type": "stream",
     "text": [
      "t**2\n",
      "2*t\n",
      "2*t\n"
     ]
    }
   ],
   "source": [
    "# la derivada de la funcion x(t)\n",
    "print(x)\n",
    "dx = diff(t**2,t)\n",
    "print(dx)\n",
    "dx = diff(x,t)\n",
    "print(dx)"
   ]
  },
  {
   "cell_type": "markdown",
   "id": "e0fg2khV6C6_",
   "metadata": {
    "id": "e0fg2khV6C6_"
   },
   "source": [
    "Podemos definir nuestra funcion $x(t)$ y luego derivarla, incluso darle un nombre nuevo a la funcion derivada (por ejemplo dx).\n",
    "\n",
    "Podemos ver por ejemplo que la derivada de:\n",
    "\n",
    "$x(t) = t^n$\n",
    "\n",
    "se puede calcular siempre como :\n",
    "\n",
    "$\\frac{dx}{dt} = n t^{n-1}$\n",
    "\n"
   ]
  },
  {
   "cell_type": "code",
   "execution_count": 4,
   "id": "_EL03hATEAk8",
   "metadata": {
    "ExecuteTime": {
     "end_time": "2021-06-23T23:01:47.739987Z",
     "start_time": "2021-06-23T23:01:47.728989Z"
    },
    "colab": {
     "base_uri": "https://localhost:8080/"
    },
    "id": "_EL03hATEAk8",
    "outputId": "4233d301-6c0f-48a2-c396-49a15d8a52de"
   },
   "outputs": [
    {
     "name": "stdout",
     "output_type": "stream",
     "text": [
      "la funcion original: t**3\n",
      "la funcion derivada: 3*t**2\n"
     ]
    }
   ],
   "source": [
    "x = t**3\n",
    "dx = diff(x,t)\n",
    "print('la funcion original: ' + str(x))\n",
    "print('la funcion derivada: ' + str(dx))"
   ]
  },
  {
   "cell_type": "code",
   "execution_count": 5,
   "id": "qaKBScP57_9N",
   "metadata": {
    "ExecuteTime": {
     "end_time": "2021-06-23T23:01:48.369483Z",
     "start_time": "2021-06-23T23:01:48.352425Z"
    },
    "colab": {
     "base_uri": "https://localhost:8080/"
    },
    "id": "qaKBScP57_9N",
    "outputId": "277860ec-612b-40fb-cc07-6c340c225c6b"
   },
   "outputs": [
    {
     "name": "stdout",
     "output_type": "stream",
     "text": [
      "la funcion:  exp(3*t)\n",
      "su derivada:  3*exp(3*t)\n"
     ]
    }
   ],
   "source": [
    "x = exp(3*t)\n",
    "dx = diff(x,t)\n",
    "print('la funcion: ', x)\n",
    "print('su derivada: ', dx)"
   ]
  },
  {
   "cell_type": "markdown",
   "id": "75b05f2d",
   "metadata": {},
   "source": [
    "Podemos ver un ejemplo de la regla de la cadena que me dice que si tengo una una funcion compuesta de\n",
    "\n",
    "$f(t)$ y $g(t)$\n",
    "\n",
    "componer funciones es hacer \n",
    "\n",
    "$f(g(t))$\n",
    "\n",
    "\n",
    "$x(t) = f(g(t))$\n",
    "\n",
    "es igual a:\n",
    "\n",
    "$\\frac{dx}{dt} = \\frac{df}{dg} \\frac{dg}{dt}$\n",
    "\n",
    "ejemplo\n",
    "\n",
    "$f(t) = exp(t)$\n",
    "\n",
    "$g(t) = 3*t$\n",
    "\n",
    "$x(t) = exp(3*t)$\n",
    "\n",
    "la derivada va a ser:\n",
    "\n",
    "$\\frac{dx}{dt} = exp(3t) 3$"
   ]
  },
  {
   "cell_type": "code",
   "execution_count": 6,
   "id": "5afcae9e",
   "metadata": {
    "ExecuteTime": {
     "end_time": "2021-06-23T23:01:49.694660Z",
     "start_time": "2021-06-23T23:01:49.681589Z"
    },
    "scrolled": true
   },
   "outputs": [
    {
     "name": "stdout",
     "output_type": "stream",
     "text": [
      "la funcion original: exp(-t**2)\n",
      "la funcion derivada: -2*t*exp(-t**2)\n"
     ]
    }
   ],
   "source": [
    "x = exp(-t**2)\n",
    "dx = diff(x,t)\n",
    "print('la funcion original: ' + str(x))\n",
    "print('la funcion derivada: ' + str(dx))"
   ]
  },
  {
   "cell_type": "markdown",
   "id": "ln871TMu6xYs",
   "metadata": {
    "id": "ln871TMu6xYs"
   },
   "source": [
    "Si queremos evaluar la funcion o la derivada en un valor particular tenemos que usar subs"
   ]
  },
  {
   "cell_type": "code",
   "execution_count": 7,
   "id": "r-PYlWgf6wjR",
   "metadata": {
    "ExecuteTime": {
     "end_time": "2021-06-23T23:01:50.751414Z",
     "start_time": "2021-06-23T23:01:50.745430Z"
    },
    "colab": {
     "base_uri": "https://localhost:8080/"
    },
    "id": "r-PYlWgf6wjR",
    "outputId": "405b0617-ea9d-448c-ae01-cf00f786186e"
   },
   "outputs": [
    {
     "name": "stdout",
     "output_type": "stream",
     "text": [
      "exp(-9)\n",
      "-6*exp(-9)\n"
     ]
    }
   ],
   "source": [
    "print(x.subs(t,3))\n",
    "print(dx.subs(t,3))"
   ]
  },
  {
   "cell_type": "markdown",
   "id": "IAsMb9X87XV6",
   "metadata": {
    "id": "IAsMb9X87XV6"
   },
   "source": [
    "Podemos probar aca derivar diferentes funciones de t"
   ]
  },
  {
   "cell_type": "markdown",
   "id": "sD4cO71X8TjO",
   "metadata": {
    "id": "sD4cO71X8TjO"
   },
   "source": [
    "Podemos graficar una funcion y su derivada usando plot (de sympy no confundir con la de matplotlib)"
   ]
  },
  {
   "cell_type": "code",
   "execution_count": 8,
   "id": "nFdkS5yUC3hH",
   "metadata": {
    "ExecuteTime": {
     "end_time": "2021-06-23T23:01:52.664750Z",
     "start_time": "2021-06-23T23:01:52.273250Z"
    },
    "colab": {
     "base_uri": "https://localhost:8080/",
     "height": 297
    },
    "id": "nFdkS5yUC3hH",
    "outputId": "012e696b-6443-4a7f-a7dc-ab7cb1b04c57",
    "scrolled": true
   },
   "outputs": [
    {
     "data": {
      "image/png": "[encoded data removed]",
      "text/plain": [
       "<Figure size 432x288 with 1 Axes>"
      ]
     },
     "metadata": {
      "needs_background": "light"
     },
     "output_type": "display_data"
    }
   ],
   "source": [
    "x = sin(t)\n",
    "dx = diff(x,t)\n",
    "tmin = -2*pi\n",
    "tmax = 2*pi\n",
    "p1 = plot(x,(t,tmin,tmax),line_color='blue',show=False,legend=x)\n",
    "p2 = plot(dx,(t,tmin,tmax),line_color='red',show=False,legend=diff(x,t))\n",
    "p1.append(p2[0])\n",
    "p1.show()"
   ]
  },
  {
   "cell_type": "markdown",
   "id": "TnnRuHJO81qi",
   "metadata": {
    "id": "TnnRuHJO81qi"
   },
   "source": [
    "Escribimos una funcion para graficar una funcion y su derivada en un punto, como la recta tangente. Notar que en lugar de x llamamos f de forma general a esa funcion que pasamos como argumento pero la variable de la funcion sigue siendo t que es la unica definida como tal al principio"
   ]
  },
  {
   "cell_type": "code",
   "execution_count": 9,
   "id": "CzblS5ipDdDy",
   "metadata": {
    "ExecuteTime": {
     "end_time": "2021-06-23T23:01:53.847447Z",
     "start_time": "2021-06-23T23:01:53.833382Z"
    },
    "id": "CzblS5ipDdDy"
   },
   "outputs": [],
   "source": [
    "def plotdiff(f, t, t0, tmin, tmax):\n",
    "    '''Grafica la derivada de f(t) en el punto t=t0\n",
    "    como recta con pendiente igual a la derivada en ese punto\n",
    "    '''\n",
    "    p1 = plot(f, (t,tmin,tmax), legend=f, show=False)\n",
    "    df = diff(f,t)\n",
    "    s = f.subs(t,t0) + df.subs(t,t0)*(t-t0)\n",
    "    p2 = plot(s,(t,tmin,tmax), line_color = 'red', legend=s,show=False)\n",
    "    p1.append(p2[0])\n",
    "    return p1"
   ]
  },
  {
   "cell_type": "markdown",
   "id": "ptnyAUWy9-1R",
   "metadata": {
    "id": "ptnyAUWy9-1R"
   },
   "source": [
    "Como ejemplo graficamos la derivada de $e^t$ en el punto t=1"
   ]
  },
  {
   "cell_type": "code",
   "execution_count": 10,
   "id": "n46pHeUCGBE6",
   "metadata": {
    "ExecuteTime": {
     "end_time": "2021-06-23T23:01:56.181575Z",
     "start_time": "2021-06-23T23:01:56.032496Z"
    },
    "colab": {
     "base_uri": "https://localhost:8080/",
     "height": 296
    },
    "id": "n46pHeUCGBE6",
    "outputId": "884231aa-d601-41ce-da08-d49f1bf5489c"
   },
   "outputs": [
    {
     "data": {
      "image/png": "[encoded data removed]",
      "text/plain": [
       "<Figure size 432x288 with 1 Axes>"
      ]
     },
     "metadata": {
      "needs_background": "light"
     },
     "output_type": "display_data"
    }
   ],
   "source": [
    "pp = plotdiff(exp(t),t,1,0,2)\n",
    "pp.show()"
   ]
  },
  {
   "cell_type": "code",
   "execution_count": 11,
   "id": "3234abbd",
   "metadata": {
    "ExecuteTime": {
     "end_time": "2021-06-23T23:01:57.725215Z",
     "start_time": "2021-06-23T23:01:57.705243Z"
    },
    "scrolled": true
   },
   "outputs": [
    {
     "name": "stdout",
     "output_type": "stream",
     "text": [
      "la solucion propuesta es:  (x0 + b/a)*exp(a*t) - b/a\n",
      " la derivada es :  a*(x0 + b/a)*exp(a*t)\n",
      "deberia ser igual al miembro derecho de la ED  a*((x0 + b/a)*exp(a*t) - b/a) + b\n"
     ]
    }
   ],
   "source": [
    "b = symbols('b')\n",
    "a = symbols('a')\n",
    "x0 = symbols('x0')\n",
    "x = (x0+b/a)*exp(a*t) - b/a\n",
    "print('la solucion propuesta es: ' , x)\n",
    "df = diff(x,t)\n",
    "print(' la derivada es : ', df)\n",
    "print('deberia ser igual al miembro derecho de la ED ', a*x+b)"
   ]
  },
  {
   "cell_type": "markdown",
   "id": "2d46f81e",
   "metadata": {},
   "source": [
    "# Integracion numerica de ecuaciones diferenciales"
   ]
  },
  {
   "cell_type": "code",
   "execution_count": 12,
   "id": "f80a5388",
   "metadata": {
    "ExecuteTime": {
     "end_time": "2021-06-23T23:01:59.608487Z",
     "start_time": "2021-06-23T23:01:59.296787Z"
    }
   },
   "outputs": [],
   "source": [
    "from putils import *\n",
    "import numpy as np\n",
    "import matplotlib.pyplot as plt"
   ]
  },
  {
   "cell_type": "code",
   "execution_count": 13,
   "id": "1035c469",
   "metadata": {
    "ExecuteTime": {
     "end_time": "2021-06-23T23:02:00.918655Z",
     "start_time": "2021-06-23T23:02:00.904693Z"
    }
   },
   "outputs": [],
   "source": [
    "def lineal(t,x):\n",
    "    return np.sin(x)"
   ]
  },
  {
   "cell_type": "code",
   "execution_count": 14,
   "id": "dbd078c1",
   "metadata": {
    "ExecuteTime": {
     "end_time": "2021-06-23T23:02:02.102676Z",
     "start_time": "2021-06-23T23:02:02.008899Z"
    }
   },
   "outputs": [
    {
     "data": {
      "text/plain": [
       "[<matplotlib.lines.Line2D at 0x21b28d07fc8>]"
      ]
     },
     "execution_count": 14,
     "metadata": {},
     "output_type": "execute_result"
    },
    {
     "data": {
      "image/png": "[encoded data removed]",
      "text/plain": [
       "<Figure size 432x288 with 1 Axes>"
      ]
     },
     "metadata": {
      "needs_background": "light"
     },
     "output_type": "display_data"
    }
   ],
   "source": [
    "tmax = 10\n",
    "dt = 0.1\n",
    "xini = 1.0\n",
    "t = np.arange(0, tmax, dt)\n",
    "x = solve(lineal, t, [xini])\n",
    "plt.plot(t,x)"
   ]
  },
  {
   "cell_type": "code",
   "execution_count": null,
   "id": "c148f95f",
   "metadata": {},
   "outputs": [],
   "source": []
  },
  {
   "cell_type": "code",
   "execution_count": null,
   "id": "90ed88dd",
   "metadata": {},
   "outputs": [],
   "source": []
  }
 ],
 "metadata": {
  "colab": {
   "name": "Derivadas.ipynb",
   "provenance": []
  },
  "kernelspec": {
   "display_name": "Python 3",
   "language": "python",
   "name": "python3"
  },
  "language_info": {
   "codemirror_mode": {
    "name": "ipython",
    "version": 3
   },
   "file_extension": ".py",
   "mimetype": "text/x-python",
   "name": "python",
   "nbconvert_exporter": "python",
   "pygments_lexer": "ipython3",
   "version": "3.7.10"
  },
  "toc": {
   "base_numbering": 1,
   "nav_menu": {},
   "number_sections": true,
   "sideBar": true,
   "skip_h1_title": false,
   "title_cell": "Table of Contents",
   "title_sidebar": "Contents",
   "toc_cell": false,
   "toc_position": {},
   "toc_section_display": true,
   "toc_window_display": false
  },
  "varInspector": {
   "cols": {
    "lenName": 16,
    "lenType": 16,
    "lenVar": 40
   },
   "kernels_config": {
    "python": {
     "delete_cmd_postfix": "",
     "delete_cmd_prefix": "del ",
     "library": "var_list.py",
     "varRefreshCmd": "print(var_dic_list())"
    },
    "r": {
     "delete_cmd_postfix": ") ",
     "delete_cmd_prefix": "rm(",
     "library": "var_list.r",
     "varRefreshCmd": "cat(var_dic_list()) "
    }
   },
   "types_to_exclude": [
    "module",
    "function",
    "builtin_function_or_method",
    "instance",
    "_Feature"
   ],
   "window_display": false
  }
 },
 "nbformat": 4,
 "nbformat_minor": 5
}
