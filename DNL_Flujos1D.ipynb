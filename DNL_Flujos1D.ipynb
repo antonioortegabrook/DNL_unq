{
 "cells": [
  {
   "cell_type": "code",
   "execution_count": null,
   "id": "2254df9f",
   "metadata": {
    "ExecuteTime": {
     "end_time": "2021-06-10T03:35:17.745896Z",
     "start_time": "2021-06-10T03:35:17.258463Z"
    }
   },
   "outputs": [],
   "source": [
    "import matplotlib.pyplot as plt\n",
    "import numpy as np\n",
    "from ipywidgets import interactive, interact_manual\n",
    "from putils import *"
   ]
  },
  {
   "cell_type": "markdown",
   "id": "f618ea2b",
   "metadata": {},
   "source": [
    "# Ecuacion diferencial lineal. Ley de enfriamiento de Newton\n",
    "\n",
    "En este caso la variable $x$ es la temperatura del objeto y R es su tasa de intercambio de calor (que depende del calor especifico y el area de contacto). $x_0$ es la temperatura ambiente.\n",
    "La evolucion de la temperatura esta dada por \n",
    "\n",
    "$\\dot{x} = -R(x-x_0)$"
   ]
  },
  {
   "cell_type": "code",
   "execution_count": null,
   "id": "d120bd8b",
   "metadata": {
    "ExecuteTime": {
     "end_time": "2021-06-10T03:35:18.709618Z",
     "start_time": "2021-06-10T03:35:18.697643Z"
    }
   },
   "outputs": [],
   "source": [
    "#definimos la funcion\n",
    "def newton(t, x, R, x0):\n",
    "    return[\n",
    "        -R*(x-x0)\n",
    "    ]"
   ]
  },
  {
   "cell_type": "code",
   "execution_count": null,
   "id": "c621c0f7",
   "metadata": {
    "ExecuteTime": {
     "end_time": "2021-06-10T03:35:19.317736Z",
     "start_time": "2021-06-10T03:35:19.312746Z"
    }
   },
   "outputs": [],
   "source": [
    "# definimos una funcion para resolver la ecuacion diferencial\n",
    "def solve_newton(R,x0,xini,tmax):\n",
    "    dt = 0.001\n",
    "    par={'R':R,'x0':x0}\n",
    "    return solve_plot(newton,par,[xini],tmax,dt)"
   ]
  },
  {
   "cell_type": "markdown",
   "id": "7c713ab4",
   "metadata": {},
   "source": [
    "## Calculo de las trayectorias\n",
    "Para resolver (integrar) usamos la funcion **solve_plot** de putils\n",
    "\n",
    "**solve_plot** necesita como argumentos:\n",
    "1. la funcion que define el sistema dinamico (en este caso osc_harm)\n",
    "2. los parametros del sistema como un diccionario 'nombre':valor\n",
    "3. la condicion inicial como un array de un unico valor [x0] en nuestro caso\n",
    "4. el tiempo maximo\n",
    "5. (opcional) el paso de integracion\n",
    "\n",
    "Para facilitar esto definimos una funcion ad-hoc que despues vamos a poder hacer interactiva"
   ]
  },
  {
   "cell_type": "markdown",
   "id": "9bedae1f",
   "metadata": {},
   "source": [
    "## Evolucion temporal y Retrato de fases\n",
    "Podemos graficar la solucion del sistema y el retrato de fases para un valor particular del parametro y de la condicion inicial"
   ]
  },
  {
   "cell_type": "code",
   "execution_count": null,
   "id": "c926c0f5",
   "metadata": {
    "ExecuteTime": {
     "end_time": "2021-06-10T03:35:21.590515Z",
     "start_time": "2021-06-10T03:35:21.281644Z"
    }
   },
   "outputs": [],
   "source": [
    "solve_newton(0.2,20,40,20)"
   ]
  },
  {
   "cell_type": "code",
   "execution_count": null,
   "id": "2136b569",
   "metadata": {
    "ExecuteTime": {
     "end_time": "2021-06-10T03:36:14.960065Z",
     "start_time": "2021-06-10T03:36:14.801489Z"
    }
   },
   "outputs": [],
   "source": [
    "# multiples trayectorias\n",
    "xini_array = np.linspace(0,60,10)\n",
    "dt = 0.001\n",
    "tmax = 20\n",
    "pars={'R':0.2,'x0':20}\n",
    "solve_plot1D_multiple(newton,pars,xini_array,tmax,dt,xrange=[0,70])"
   ]
  },
  {
   "cell_type": "markdown",
   "id": "53a6d95d",
   "metadata": {},
   "source": [
    "## Interaccion\n",
    "usando el ipywidget interactive podemos darle un rango al parametro, la condicion incial y el tiempo maximo de integracion y jugar con eso de forma interactiva "
   ]
  },
  {
   "cell_type": "code",
   "execution_count": null,
   "id": "545271fd",
   "metadata": {
    "ExecuteTime": {
     "end_time": "2021-06-10T03:36:21.699591Z",
     "start_time": "2021-06-10T03:36:21.528766Z"
    }
   },
   "outputs": [],
   "source": [
    "iplot0 = interactive(solve_newton,\n",
    "                    R=(0,1.0,0.01),\n",
    "                    x0=(0,30,0.01), \n",
    "                    xini=(0,100,0.001),\n",
    "                    tmax=(1,30,1))\n",
    "\n",
    "iplot0"
   ]
  },
  {
   "cell_type": "markdown",
   "id": "26ea65d2",
   "metadata": {},
   "source": [
    "# Ecuacion Logistica\n",
    "Sistema mas simple que modela el crecimiento de una poblacion con capacidad K y tasa de crecimiento R"
   ]
  },
  {
   "cell_type": "markdown",
   "id": "1638759a",
   "metadata": {},
   "source": [
    "Ecuaciones diferencial de primer orden, x corresponde a la poblacion normalizada por la capacidad K\n",
    "\n",
    "$ \\dot{x} = Rx(1-x/K) $ \n",
    "\n"
   ]
  },
  {
   "cell_type": "code",
   "execution_count": null,
   "id": "ac8817ea",
   "metadata": {
    "ExecuteTime": {
     "end_time": "2021-06-10T03:39:34.944147Z",
     "start_time": "2021-06-10T03:39:34.928985Z"
    }
   },
   "outputs": [],
   "source": [
    "# Ecuacion Logistica\n",
    "def logistic(t, x, R, K):\n",
    "    return [\n",
    "        R*x*(1-x/K),\n",
    "    ]"
   ]
  },
  {
   "cell_type": "code",
   "execution_count": null,
   "id": "d1284122",
   "metadata": {
    "ExecuteTime": {
     "end_time": "2021-06-10T03:39:35.758488Z",
     "start_time": "2021-06-10T03:39:35.593453Z"
    }
   },
   "outputs": [],
   "source": [
    "# definimos una funcion para resolver logistic\n",
    "def solve_logistic(R,K,xini,tmax):\n",
    "    dt = 0.001\n",
    "    par={'R':R,'K':K}\n",
    "    return solve_plot(logistic,par,[xini],tmax,dt)\n",
    "\n",
    "iplot0 = interactive(solve_logistic,\n",
    "                    R=(0,2.0,0.01),\n",
    "                    K=(0,3.0,0.01), \n",
    "                    xini=(0,2,0.001),\n",
    "                    tmax=(1,30,1))\n",
    "\n",
    "iplot0"
   ]
  },
  {
   "cell_type": "code",
   "execution_count": null,
   "id": "b9559442",
   "metadata": {
    "ExecuteTime": {
     "end_time": "2021-06-10T03:40:01.758673Z",
     "start_time": "2021-06-10T03:40:01.553223Z"
    }
   },
   "outputs": [],
   "source": [
    "# multiples trayectorias\n",
    "xini_array = np.linspace(0,1.2,20)\n",
    "dt = 0.001\n",
    "tmax = 20\n",
    "pars={'R':0.5,'K':1}\n",
    "solve_plot1D_multiple(logistic,pars,xini_array,tmax,dt,xrange=[0,1.2])"
   ]
  },
  {
   "cell_type": "markdown",
   "id": "ef03f599",
   "metadata": {},
   "source": [
    "## Evolucion temporal y f(x)\n",
    "solve_plot1D_dual grafica ademas de la evolucion temporal la funcion f(x) para poder visualizar los puntos fijos y el flujo"
   ]
  },
  {
   "cell_type": "code",
   "execution_count": null,
   "id": "88f50e7d",
   "metadata": {
    "ExecuteTime": {
     "end_time": "2021-06-10T03:40:07.095274Z",
     "start_time": "2021-06-10T03:40:06.864927Z"
    }
   },
   "outputs": [],
   "source": [
    "def solve_dual_logistic(R,K,xini,tmax):\n",
    "    dt = 0.001\n",
    "    par={'R':R,'K':K}\n",
    "    return solve_plot1D_dual(logistic,par,[xini],tmax,dt,xrange=[0,1])\n",
    "\n",
    "iplot1 = interactive(solve_dual_logistic,\n",
    "                    R=(0,2.0,0.01),\n",
    "                    K=(0,1.0,0.01), \n",
    "                    xini=(0,1,0.001),\n",
    "                    tmax=(1,30,1))\n",
    "\n",
    "iplot1"
   ]
  },
  {
   "cell_type": "markdown",
   "id": "7717ef52",
   "metadata": {},
   "source": [
    "# Ecuacion Logistica con Harvest"
   ]
  },
  {
   "cell_type": "markdown",
   "id": "14bbadab",
   "metadata": {},
   "source": [
    "En syu version mas simple se agrega un termino de decrecimiento constante que representa el harvest (cosecha, caza, pesca)\n",
    "\n",
    "$ \\dot{x} = Rx\\left(1-\\frac{x}{K}\\right) - H$ \n",
    "\n",
    "Atencion: no es un modelo realista para una poblacion porque me puede dar un valor de x negativo"
   ]
  },
  {
   "cell_type": "code",
   "execution_count": null,
   "id": "095b20b0",
   "metadata": {
    "ExecuteTime": {
     "end_time": "2021-06-10T03:42:00.016833Z",
     "start_time": "2021-06-10T03:42:00.009848Z"
    }
   },
   "outputs": [],
   "source": [
    "# Ecuacion Logistica con harvest\n",
    "def logistic_harvest1(t, x, R, K,H):\n",
    "    return [\n",
    "        R*x*(1-x/K)-H,\n",
    "    ]"
   ]
  },
  {
   "cell_type": "code",
   "execution_count": null,
   "id": "04f7069c",
   "metadata": {
    "ExecuteTime": {
     "end_time": "2021-06-10T03:42:01.326876Z",
     "start_time": "2021-06-10T03:42:01.081505Z"
    }
   },
   "outputs": [],
   "source": [
    "def solve_dual_logistic_harvest1(R,K,H,xini,tmax):\n",
    "    dt = 0.0001\n",
    "    par={'R':R,'K':K,'H':H}\n",
    "    return solve_plot1D_dual(logistic_harvest1,par,[xini],tmax,dt,xrange=[0,1])\n",
    "\n",
    "iplot2 = interactive(solve_dual_logistic_harvest1,\n",
    "                    R=(0,1.0,0.01),\n",
    "                    K=(0,1.0,0.01), \n",
    "                    H=(0,0.25,0.01), \n",
    "                    xini=(0,1,0.01),\n",
    "                    tmax=(1,50,1))\n",
    "iplot2"
   ]
  },
  {
   "cell_type": "code",
   "execution_count": null,
   "id": "e8c72803",
   "metadata": {
    "ExecuteTime": {
     "end_time": "2021-06-10T03:42:27.140907Z",
     "start_time": "2021-06-10T03:42:26.905525Z"
    }
   },
   "outputs": [],
   "source": [
    "import importlib as imp\n",
    "import putils\n",
    "imp.reload(putils)\n",
    "from putils import *\n",
    "\n",
    "# multiples trayectorias\n",
    "xini_array = np.linspace(0,0.6,20)\n",
    "dt = 0.001\n",
    "tmax = 20\n",
    "pars={'R':0.5,'K':0.5,'H':0.05}\n",
    "solve_plot1D_multiple(logistic_harvest1,pars,xini_array,tmax,dt,xrange=[0,0.6])"
   ]
  },
  {
   "cell_type": "markdown",
   "id": "ccdc5f27",
   "metadata": {},
   "source": [
    "## DIAGRAMA DE BIFURCACIONES"
   ]
  },
  {
   "cell_type": "code",
   "execution_count": null,
   "id": "4fd28241",
   "metadata": {
    "ExecuteTime": {
     "end_time": "2021-06-10T03:43:06.949639Z",
     "start_time": "2021-06-10T03:42:34.089537Z"
    },
    "scrolled": false
   },
   "outputs": [],
   "source": [
    "dt = 0.0001\n",
    "pars={'R':0.5,'K':0.5,'H':0.04}\n",
    "tmax = 500\n",
    "xini = np.linspace(0.15,0.35,5)\n",
    "hvals = np.linspace(0.05,0.063,20)\n",
    "bifurcation_diag(logistic_harvest1, pars, xini, tmax, dt, 'H', hvals, xrange=[0,1]);"
   ]
  },
  {
   "cell_type": "markdown",
   "id": "30e75c10",
   "metadata": {
    "ExecuteTime": {
     "end_time": "2021-06-10T00:15:14.239730Z",
     "start_time": "2021-06-10T00:15:14.222781Z"
    }
   },
   "source": [
    "## Version con Harvest mas realista\n",
    "\n",
    "Ahora el Harvest no es constante sino que depende de la poblacion \n",
    "\n",
    "$ \\dot{x} = Rx\\left(1-\\frac{x}{K}\\right) - Hx\\frac{1}{1+x}$ \n",
    "\n"
   ]
  },
  {
   "cell_type": "code",
   "execution_count": null,
   "id": "408f78f6",
   "metadata": {
    "ExecuteTime": {
     "end_time": "2021-06-10T03:02:23.964704Z",
     "start_time": "2021-06-10T03:02:23.947727Z"
    }
   },
   "outputs": [],
   "source": [
    "# Ecuacion Logistica con harvest realista\n",
    "def logistic_harvest2(t, x, R, K,H):\n",
    "    return [\n",
    "        R*x*(1-x/K)-H*x/(1+x),\n",
    "    ]"
   ]
  },
  {
   "cell_type": "code",
   "execution_count": null,
   "id": "a64152d2",
   "metadata": {
    "ExecuteTime": {
     "end_time": "2021-06-10T03:03:24.429582Z",
     "start_time": "2021-06-10T03:03:23.907738Z"
    }
   },
   "outputs": [],
   "source": [
    "def solve_logistic_harvest2(R,K,H,xini,tmax):\n",
    "    dt = 0.0001\n",
    "    par={'R':R,'K':K,'H':H}\n",
    "    return solve_plot(logistic_harvest2,par,[xini],tmax,dt)\n",
    "\n",
    "# probar H = 0.54\n",
    "iplot3 = interactive(solve_logistic_harvest2,\n",
    "                    R=(0,1.0,0.01),\n",
    "                    K=(0,4.0,0.01), \n",
    "                    H=(0,2,0.01), \n",
    "                    xini=(0,1,0.01),\n",
    "                    tmax=(1,200,1))\n",
    "\n",
    "iplot3"
   ]
  },
  {
   "cell_type": "code",
   "execution_count": null,
   "id": "61477f4f",
   "metadata": {
    "ExecuteTime": {
     "end_time": "2021-06-10T03:04:34.940398Z",
     "start_time": "2021-06-10T03:04:34.146521Z"
    }
   },
   "outputs": [],
   "source": [
    "# multiples trayectorias\n",
    "xini_array = np.linspace(0,1,30)\n",
    "dt = 0.001\n",
    "tmax = 200\n",
    "pars={'R':0.5,'K':2,'H':0.54}\n",
    "solve_plot1D_multiple(logistic_harvest2,pars,xini_array,tmax,dt,xrange=[0,1])"
   ]
  },
  {
   "cell_type": "code",
   "execution_count": null,
   "id": "28b5d46a",
   "metadata": {
    "ExecuteTime": {
     "end_time": "2021-06-10T03:03:31.228057Z",
     "start_time": "2021-06-10T03:03:30.163876Z"
    }
   },
   "outputs": [],
   "source": [
    "def solve_dual_logistic_harvest2(R,K,H,xini,tmax):\n",
    "    dt = 0.0001\n",
    "    par={'R':R,'K':K,'H':H}\n",
    "    return solve_plot1D_dual(logistic_harvest2,par,[xini],tmax,dt,xrange=[0,1])\n",
    "\n",
    "iplot4 = interactive(solve_dual_logistic_harvest2,\n",
    "                    R=(0,1.0,0.01),\n",
    "                    K=(0,4.0,0.01), \n",
    "                    H=(0,2,0.01), \n",
    "                    xini=(0,1,0.01),\n",
    "                    tmax=(1,200,1))\n",
    "\n",
    "iplot4"
   ]
  },
  {
   "cell_type": "code",
   "execution_count": null,
   "id": "e9b774f9",
   "metadata": {
    "ExecuteTime": {
     "end_time": "2021-06-10T02:31:26.633318Z",
     "start_time": "2021-06-10T02:30:33.490591Z"
    }
   },
   "outputs": [],
   "source": [
    "dt = 0.0001\n",
    "pars={'R':0.5,'K':2,'H':0.54}\n",
    "tmax = 500\n",
    "xini = np.linspace(0,0.6,7)\n",
    "hvals = np.linspace(0.52,0.57,20)\n",
    "bifurcation_diag(logistic_harvest2, pars, xini, tmax, dt, 'H', hvals, xrange=[0,1]);"
   ]
  },
  {
   "cell_type": "markdown",
   "id": "5089581b",
   "metadata": {
    "ExecuteTime": {
     "end_time": "2021-04-28T14:45:27.502106Z",
     "start_time": "2021-04-28T14:45:27.494031Z"
    }
   },
   "source": [
    " # Ecuacion Logistica con OutBreak\n",
    "    \n"
   ]
  },
  {
   "cell_type": "markdown",
   "id": "ec1e09b3",
   "metadata": {},
   "source": [
    "Se agrega a la ecuacion logistica un termino con la funcion del predador\n",
    "\n",
    "$\\dot{x} = Rx(1-x/K)-\\frac{x^2}{1+x^2}$\n"
   ]
  },
  {
   "cell_type": "code",
   "execution_count": null,
   "id": "4fbcf138",
   "metadata": {
    "ExecuteTime": {
     "end_time": "2021-06-10T03:05:19.107766Z",
     "start_time": "2021-06-10T03:05:19.098761Z"
    }
   },
   "outputs": [],
   "source": [
    "def logistic_outbreak(t, x, R,K):\n",
    "    return [\n",
    "         R*x*(1-x/K)-x*x/(1+x*x)\n",
    "    ]"
   ]
  },
  {
   "cell_type": "code",
   "execution_count": null,
   "id": "b048fb4a",
   "metadata": {
    "ExecuteTime": {
     "end_time": "2021-06-10T03:06:34.296230Z",
     "start_time": "2021-06-10T03:06:33.434256Z"
    }
   },
   "outputs": [],
   "source": [
    "# multiples trayectorias\n",
    "xini_array = np.linspace(0,8,30)\n",
    "dt = 0.001\n",
    "tmax = 200\n",
    "pars={'R':0.5,'K':8}\n",
    "solve_plot1D_multiple(logistic_outbreak,pars,xini_array,tmax,dt,xrange=[0,8])"
   ]
  },
  {
   "cell_type": "code",
   "execution_count": null,
   "id": "bad81519",
   "metadata": {
    "ExecuteTime": {
     "end_time": "2021-06-10T03:06:47.302452Z",
     "start_time": "2021-06-10T03:06:47.019959Z"
    }
   },
   "outputs": [],
   "source": [
    "def solve_dual_logistic_outbreak(R,K,xini,tmax):\n",
    "    dt = 0.001\n",
    "    par=({'R':R,'K':K})\n",
    "    return solve_plot1D_dual(logistic_outbreak,par,[xini],tmax,dt,xrange=[0,8])\n",
    "\n",
    "iplot5 = interactive(solve_dual_logistic_outbreak,\n",
    "                    R=(0,1.0,0.01),\n",
    "                    K=(0,10.0,0.01), \n",
    "                    xini=(0,4,0.01),\n",
    "                    tmax=(1,100,1))\n",
    "\n",
    "iplot5"
   ]
  },
  {
   "cell_type": "code",
   "execution_count": null,
   "id": "ec228a98",
   "metadata": {
    "ExecuteTime": {
     "end_time": "2021-06-10T02:32:19.221521Z",
     "start_time": "2021-06-10T02:32:00.922482Z"
    },
    "scrolled": false
   },
   "outputs": [],
   "source": [
    "dt = 0.001\n",
    "pars={'R':0.5,'K':8}\n",
    "tmax = 500\n",
    "xini = np.linspace(0,4,17)\n",
    "rvals = np.linspace(0.46,0.6,25)\n",
    "bifurcation_diag(logistic_outbreak, pars, xini, tmax, dt, 'R', rvals, xrange=[0,8]);"
   ]
  },
  {
   "cell_type": "code",
   "execution_count": null,
   "id": "c6412d04",
   "metadata": {},
   "outputs": [],
   "source": []
  }
 ],
 "metadata": {
  "kernelspec": {
   "display_name": "Python 3",
   "language": "python",
   "name": "python3"
  },
  "language_info": {
   "codemirror_mode": {
    "name": "ipython",
    "version": 3
   },
   "file_extension": ".py",
   "mimetype": "text/x-python",
   "name": "python",
   "nbconvert_exporter": "python",
   "pygments_lexer": "ipython3",
   "version": "3.7.8"
  },
  "toc": {
   "base_numbering": 1,
   "nav_menu": {},
   "number_sections": true,
   "sideBar": true,
   "skip_h1_title": false,
   "title_cell": "Table of Contents",
   "title_sidebar": "Contents",
   "toc_cell": false,
   "toc_position": {},
   "toc_section_display": true,
   "toc_window_display": true
  },
  "varInspector": {
   "cols": {
    "lenName": 16,
    "lenType": 16,
    "lenVar": 40
   },
   "kernels_config": {
    "python": {
     "delete_cmd_postfix": "",
     "delete_cmd_prefix": "del ",
     "library": "var_list.py",
     "varRefreshCmd": "print(var_dic_list())"
    },
    "r": {
     "delete_cmd_postfix": ") ",
     "delete_cmd_prefix": "rm(",
     "library": "var_list.r",
     "varRefreshCmd": "cat(var_dic_list()) "
    }
   },
   "types_to_exclude": [
    "module",
    "function",
    "builtin_function_or_method",
    "instance",
    "_Feature"
   ],
   "window_display": false
  }
 },
 "nbformat": 4,
 "nbformat_minor": 5
}
